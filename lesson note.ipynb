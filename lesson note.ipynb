{
 "cells": [
  {
   "cell_type": "code",
   "execution_count": 9,
   "id": "a2c60a2b-46da-4e57-9481-44b6dcab08e4",
   "metadata": {},
   "outputs": [
    {
     "name": "stdout",
     "output_type": "stream",
     "text": [
      "hello python\n"
     ]
    }
   ],
   "source": [
    "# 这是一行注释\n",
    "print(\"hello python\")"
   ]
  },
  {
   "cell_type": "code",
   "execution_count": 15,
   "id": "38e7b62f-261f-4bae-93e6-02edf82f301b",
   "metadata": {},
   "outputs": [
    {
     "name": "stdout",
     "output_type": "stream",
     "text": [
      "hello“” python\n"
     ]
    }
   ],
   "source": [
    "\"\"\"\n",
    "这是多行注释\n",
    "这是多行注释\n",
    "这是多行注释\n",
    "\"\"\"\n",
    "print(\"hello“” python\")"
   ]
  },
  {
   "cell_type": "code",
   "execution_count": 19,
   "id": "1d7e0b93-2e1c-4fba-8fc8-d07b6ed9fe9f",
   "metadata": {},
   "outputs": [
    {
     "ename": "SyntaxError",
     "evalue": "invalid syntax (1386146796.py, line 2)",
     "output_type": "error",
     "traceback": [
      "\u001b[0;36m  Cell \u001b[0;32mIn[19], line 2\u001b[0;36m\u001b[0m\n\u001b[0;31m    print(\"True\")  print(\"True\")\u001b[0m\n\u001b[0m                   ^\u001b[0m\n\u001b[0;31mSyntaxError\u001b[0m\u001b[0;31m:\u001b[0m invalid syntax\n"
     ]
    }
   ],
   "source": [
    "if True:\n",
    "    print(\"True\")\n",
    "    print(\"True\")"
   ]
  },
  {
   "cell_type": "code",
   "execution_count": 25,
   "id": "2115700c-da73-4a4d-97e4-97c2a80ed01c",
   "metadata": {},
   "outputs": [
    {
     "name": "stdout",
     "output_type": "stream",
     "text": [
      "<class 'int'> <class 'int'> <class 'int'>\n"
     ]
    }
   ],
   "source": [
    "num1 = 100 \n",
    "num2 = 87 \n",
    "result = num1 + num2\n",
    "# 可以计算变量的类型\n",
    "print(type(num1), type(num2), type(result))"
   ]
  },
  {
   "cell_type": "code",
   "execution_count": 27,
   "id": "6faa1adf-604a-4b36-85fb-dfaffd113f0e",
   "metadata": {},
   "outputs": [
    {
     "ename": "SyntaxError",
     "evalue": "invalid decimal literal (3206233644.py, line 1)",
     "output_type": "error",
     "traceback": [
      "\u001b[0;36m  Cell \u001b[0;32mIn[27], line 1\u001b[0;36m\u001b[0m\n\u001b[0;31m    1number = 10\u001b[0m\n\u001b[0m    ^\u001b[0m\n\u001b[0;31mSyntaxError\u001b[0m\u001b[0;31m:\u001b[0m invalid decimal literal\n"
     ]
    }
   ],
   "source": [
    "1number = 10"
   ]
  },
  {
   "cell_type": "code",
   "execution_count": 29,
   "id": "2a30d50f-bba6-464a-9b3b-ae9995dd0380",
   "metadata": {},
   "outputs": [],
   "source": [
    "_1number = 10"
   ]
  },
  {
   "cell_type": "code",
   "execution_count": 31,
   "id": "a1f433eb-7601-4793-bba5-ba3321dcf139",
   "metadata": {},
   "outputs": [],
   "source": [
    "number1 = 20"
   ]
  },
  {
   "cell_type": "code",
   "execution_count": 33,
   "id": "c71b088e-a792-4c9f-b995-a89a74767c8a",
   "metadata": {},
   "outputs": [
    {
     "name": "stdout",
     "output_type": "stream",
     "text": [
      "90 80\n"
     ]
    }
   ],
   "source": [
    "score = 90\n",
    "Score = 80\n",
    "print(score, Score)"
   ]
  },
  {
   "cell_type": "code",
   "execution_count": 35,
   "id": "20bd55a0-5a21-43a9-a5fd-3770d720d2eb",
   "metadata": {},
   "outputs": [
    {
     "name": "stdout",
     "output_type": "stream",
     "text": [
      "Welcome to Python 3.12's help utility! If this is your first time using\n",
      "Python, you should definitely check out the tutorial at\n",
      "https://docs.python.org/3.12/tutorial/.\n",
      "\n",
      "Enter the name of any module, keyword, or topic to get help on writing\n",
      "Python programs and using Python modules.  To get a list of available\n",
      "modules, keywords, symbols, or topics, enter \"modules\", \"keywords\",\n",
      "\"symbols\", or \"topics\".\n",
      "\n",
      "Each module also comes with a one-line summary of what it does; to list\n",
      "the modules whose name or summary contain a given string such as \"spam\",\n",
      "enter \"modules spam\".\n",
      "\n",
      "To quit this help utility and return to the interpreter,\n",
      "enter \"q\" or \"quit\".\n",
      "\n"
     ]
    },
    {
     "name": "stdin",
     "output_type": "stream",
     "text": [
      "help>  keywords\n"
     ]
    },
    {
     "name": "stdout",
     "output_type": "stream",
     "text": [
      "\n",
      "Here is a list of the Python keywords.  Enter any keyword to get more help.\n",
      "\n",
      "False               class               from                or\n",
      "None                continue            global              pass\n",
      "True                def                 if                  raise\n",
      "and                 del                 import              return\n",
      "as                  elif                in                  try\n",
      "assert              else                is                  while\n",
      "async               except              lambda              with\n",
      "await               finally             nonlocal            yield\n",
      "break               for                 not                 \n",
      "\n"
     ]
    },
    {
     "name": "stdin",
     "output_type": "stream",
     "text": [
      "help>  quit\n"
     ]
    },
    {
     "name": "stdout",
     "output_type": "stream",
     "text": [
      "\n",
      "You are now leaving help and returning to the Python interpreter.\n",
      "If you want to ask for help on a particular object directly from the\n",
      "interpreter, you can type \"help(object)\".  Executing \"help('string')\"\n",
      "has the same effect as typing a particular string at the help> prompt.\n"
     ]
    }
   ],
   "source": [
    "help()"
   ]
  },
  {
   "cell_type": "code",
   "execution_count": 37,
   "id": "b09c7b7d-b7b3-4968-a5be-979411f6b12d",
   "metadata": {},
   "outputs": [
    {
     "ename": "SyntaxError",
     "evalue": "invalid syntax (574851001.py, line 1)",
     "output_type": "error",
     "traceback": [
      "\u001b[0;36m  Cell \u001b[0;32mIn[37], line 1\u001b[0;36m\u001b[0m\n\u001b[0;31m    if = 30\u001b[0m\n\u001b[0m       ^\u001b[0m\n\u001b[0;31mSyntaxError\u001b[0m\u001b[0;31m:\u001b[0m invalid syntax\n"
     ]
    }
   ],
   "source": [
    "if = 30"
   ]
  },
  {
   "cell_type": "code",
   "execution_count": 39,
   "id": "11416348-919a-41f1-8bcb-4fca9cd313f7",
   "metadata": {},
   "outputs": [],
   "source": [
    "student_math_score = 90\n",
    "sutdentmathscore = 90"
   ]
  },
  {
   "cell_type": "code",
   "execution_count": 47,
   "id": "e23335cb-4ad6-406f-ad21-40dc2568a40f",
   "metadata": {},
   "outputs": [
    {
     "name": "stdout",
     "output_type": "stream",
     "text": [
      "100 90.23 <class 'int'> <class 'float'>\n",
      "(1+2j) <class 'complex'>\n"
     ]
    }
   ],
   "source": [
    "num1 = 100\n",
    "num2 = 90.23\n",
    "# integer -> int\n",
    "print(num1, num2, type(num1), type(num2))\n",
    "num3 = 1+2j\n",
    "print(num3, type(num3))"
   ]
  },
  {
   "cell_type": "code",
   "execution_count": 51,
   "id": "5549a1a9-ddea-4be2-a0c9-20fc6af8602a",
   "metadata": {},
   "outputs": [
    {
     "name": "stdout",
     "output_type": "stream",
     "text": [
      "0.000314\n"
     ]
    }
   ],
   "source": [
    "print(3.14e-4)"
   ]
  },
  {
   "cell_type": "code",
   "execution_count": 55,
   "id": "25f558f0-5832-4746-adbb-6b62c3696258",
   "metadata": {},
   "outputs": [
    {
     "name": "stdout",
     "output_type": "stream",
     "text": [
      "10 20.0\n"
     ]
    }
   ],
   "source": [
    "print(int(10.999123), float(20))"
   ]
  },
  {
   "cell_type": "code",
   "execution_count": 61,
   "id": "470f89ab-3957-4760-b786-c10ed5c78a72",
   "metadata": {},
   "outputs": [
    {
     "name": "stdout",
     "output_type": "stream",
     "text": [
      "True False <class 'bool'> <class 'bool'>\n"
     ]
    }
   ],
   "source": [
    "print(True, False, type(True), type(False))"
   ]
  },
  {
   "cell_type": "code",
   "execution_count": 77,
   "id": "89be62cc-61bf-4925-b74a-b184283779a8",
   "metadata": {},
   "outputs": [
    {
     "name": "stdout",
     "output_type": "stream",
     "text": [
      "True True False\n",
      "True True False\n",
      "False True\n"
     ]
    }
   ],
   "source": [
    "print(bool(1), bool(-1), bool(0))\n",
    "print(bool(0.1), bool(-0.1), bool(0.0))\n",
    "print(bool(0.0+0.0j), bool(0.0+0.1j))"
   ]
  },
  {
   "cell_type": "code",
   "execution_count": 83,
   "id": "96a9d457-6217-4aa9-aed9-5acf8d73aca9",
   "metadata": {},
   "outputs": [
    {
     "name": "stdout",
     "output_type": "stream",
     "text": [
      "10\n"
     ]
    },
    {
     "data": {
      "text/plain": [
       "int"
      ]
     },
     "execution_count": 83,
     "metadata": {},
     "output_type": "execute_result"
    }
   ],
   "source": [
    "print(10)\n",
    "type(1)"
   ]
  },
  {
   "cell_type": "code",
   "execution_count": 93,
   "id": "737af46b-544a-4f24-aa01-d56935254e8b",
   "metadata": {},
   "outputs": [
    {
     "name": "stdout",
     "output_type": "stream",
     "text": [
      "2.5\n",
      "5.0\n",
      "2\n",
      "1\n",
      "25\n"
     ]
    }
   ],
   "source": [
    "print(5 / 2)\n",
    "print(10 / 2)\n",
    "print(5 // 2)\n",
    "print(5 % 2)\n",
    "print(5 ** 2)"
   ]
  },
  {
   "cell_type": "code",
   "execution_count": 97,
   "id": "1f3c7b90-c030-4016-885a-d5e84cfd3225",
   "metadata": {},
   "outputs": [
    {
     "name": "stdout",
     "output_type": "stream",
     "text": [
      "True False\n"
     ]
    }
   ],
   "source": [
    "print(1 == 1, 1 == 2)"
   ]
  },
  {
   "cell_type": "code",
   "execution_count": 103,
   "id": "ad046f82-f056-4c20-93d6-6252f5d0ef7f",
   "metadata": {},
   "outputs": [
    {
     "name": "stdout",
     "output_type": "stream",
     "text": [
      "bye\n"
     ]
    }
   ],
   "source": [
    "username = \"admin\"\n",
    "password = \"12345\"\n",
    "if username == \"admin\" and password == \"123456\":\n",
    "    print(\"hello\")\n",
    "else:\n",
    "    print(\"bye\")"
   ]
  },
  {
   "cell_type": "code",
   "execution_count": 105,
   "id": "f47f0424-75a6-45d0-9902-46caa99ba41a",
   "metadata": {},
   "outputs": [
    {
     "name": "stdout",
     "output_type": "stream",
     "text": [
      "hello\n"
     ]
    }
   ],
   "source": [
    "username = \"admin\"\n",
    "password = \"12345\"\n",
    "if username == \"admin\" or password == \"123456\":\n",
    "    print(\"hello\")\n",
    "else:\n",
    "    print(\"bye\")"
   ]
  },
  {
   "cell_type": "code",
   "execution_count": 109,
   "id": "1908cc6b-5c2d-4e61-bfa9-b236a2851a88",
   "metadata": {},
   "outputs": [
    {
     "name": "stdout",
     "output_type": "stream",
     "text": [
      "hello\n"
     ]
    }
   ],
   "source": [
    "username = \"admin\"\n",
    "password = \"12345\"\n",
    "if username == \"admin\" and not password == \"123456\":\n",
    "    print(\"hello\")\n",
    "else:\n",
    "    print(\"bye\")"
   ]
  },
  {
   "cell_type": "code",
   "execution_count": 127,
   "id": "b007d250-5863-42bd-a24c-78b439750535",
   "metadata": {},
   "outputs": [
    {
     "name": "stdout",
     "output_type": "stream",
     "text": [
      "error\n"
     ]
    }
   ],
   "source": [
    "light_color = \"blue\"\n",
    "if light_color == \"red\":\n",
    "    print(\"stop\")\n",
    "elif light_color == \"green\":\n",
    "    print(\"go\")\n",
    "elif light_color == \"yellow\":\n",
    "    print(\"slow\")\n",
    "else:\n",
    "    print(\"error\")"
   ]
  },
  {
   "cell_type": "code",
   "execution_count": 143,
   "id": "d36d36a9-aa53-4dba-b1d5-02d29057a917",
   "metadata": {},
   "outputs": [
    {
     "name": "stdout",
     "output_type": "stream",
     "text": [
      "买票成功\n",
      "安检通过\n",
      "检票失败\n"
     ]
    }
   ],
   "source": [
    "ticket_num = 3\n",
    "knife_length = 2\n",
    "id_card = False\n",
    "if ticket_num > 0:\n",
    "    print(\"买票成功\")\n",
    "    if knife_length < 5:\n",
    "        print(\"安检通过\")\n",
    "        if id_card == True:\n",
    "            print(\"检票成功，可以上车\")\n",
    "        else:\n",
    "            print(\"检票失败\")\n",
    "    else:\n",
    "        print(\"安检失败\")\n",
    "else:\n",
    "    print(\"买票失败\")"
   ]
  },
  {
   "cell_type": "code",
   "execution_count": 146,
   "id": "95df0581-8452-4128-b6e8-defef6243021",
   "metadata": {},
   "outputs": [
    {
     "name": "stdout",
     "output_type": "stream",
     "text": [
      "5050\n"
     ]
    }
   ],
   "source": [
    "# (0) + 1+2+3+4+...+100\n",
    "start = 1\n",
    "end = 100\n",
    "total = 0\n",
    "while start <= end:\n",
    "    total = total + start\n",
    "    start += 1\n",
    "\n",
    "print(total)"
   ]
  },
  {
   "cell_type": "code",
   "execution_count": null,
   "id": "a0f8a4c6-1d00-405f-99f8-d54d91865efd",
   "metadata": {},
   "outputs": [],
   "source": [
    "# 1-2+3-4+...+99-100"
   ]
  },
  {
   "cell_type": "code",
   "execution_count": 170,
   "id": "2d5de72a-dcef-4026-b8d4-60bf9709a8a3",
   "metadata": {},
   "outputs": [
    {
     "name": "stdout",
     "output_type": "stream",
     "text": [
      "112182 is not prime number\n"
     ]
    }
   ],
   "source": [
    "# prime number\n",
    "number = 112182\n",
    "# (1,self) 找到额外的因子\n",
    "i = 2\n",
    "while i < number:\n",
    "    if number % i == 0:\n",
    "        print(number, \"is not prime number\")\n",
    "        # 破坏，中断循环\n",
    "        break\n",
    "    i += 1\n",
    "else:\n",
    "    print(number, \"is prime number\")"
   ]
  },
  {
   "cell_type": "code",
   "execution_count": 176,
   "id": "1a30109d-c148-489e-a489-253b0f696a02",
   "metadata": {},
   "outputs": [
    {
     "name": "stdout",
     "output_type": "stream",
     "text": [
      "2 is prime number\n",
      "3 is prime number\n",
      "4 is not prime number\n",
      "5 is prime number\n",
      "6 is not prime number\n",
      "7 is prime number\n",
      "8 is not prime number\n",
      "9 is not prime number\n",
      "10 is not prime number\n",
      "11 is prime number\n",
      "12 is not prime number\n",
      "13 is prime number\n",
      "14 is not prime number\n",
      "15 is not prime number\n",
      "16 is not prime number\n",
      "17 is prime number\n",
      "18 is not prime number\n",
      "19 is prime number\n",
      "20 is not prime number\n"
     ]
    }
   ],
   "source": [
    "number = 2\n",
    "while number <= 20:\n",
    "    i = 2\n",
    "    while i < number:\n",
    "        if number % i == 0:\n",
    "            print(number, \"is not prime number\")\n",
    "            # 破坏，中断循环\n",
    "            break\n",
    "        i += 1\n",
    "    else:\n",
    "        print(number, \"is prime number\")\n",
    "    number += 1"
   ]
  },
  {
   "cell_type": "code",
   "execution_count": 178,
   "id": "bed4f68f-786e-4d1a-a797-9e91dc6c5eb9",
   "metadata": {},
   "outputs": [
    {
     "name": "stdout",
     "output_type": "stream",
     "text": [
      "1\n",
      "2\n",
      "3\n",
      "4\n",
      "5\n",
      "6\n"
     ]
    }
   ],
   "source": [
    "for i in [1,2,3,4,5,6]:\n",
    "    print(i)"
   ]
  },
  {
   "cell_type": "code",
   "execution_count": 188,
   "id": "8d1add19-10aa-4dfa-a89d-62c6a4d9356d",
   "metadata": {},
   "outputs": [
    {
     "name": "stdout",
     "output_type": "stream",
     "text": [
      "2\n",
      "6\n"
     ]
    }
   ],
   "source": [
    "# end is exclusive, start is inclusive\n",
    "for i in range(2, 10, 4):\n",
    "    print(i)"
   ]
  },
  {
   "cell_type": "code",
   "execution_count": 190,
   "id": "0fe45233-774e-466b-b25e-ab0e6b4ea989",
   "metadata": {},
   "outputs": [
    {
     "name": "stdout",
     "output_type": "stream",
     "text": [
      "Help on class range in module builtins:\n",
      "\n",
      "class range(object)\n",
      " |  range(stop) -> range object\n",
      " |  range(start, stop[, step]) -> range object\n",
      " |\n",
      " |  Return an object that produces a sequence of integers from start (inclusive)\n",
      " |  to stop (exclusive) by step.  range(i, j) produces i, i+1, i+2, ..., j-1.\n",
      " |  start defaults to 0, and stop is omitted!  range(4) produces 0, 1, 2, 3.\n",
      " |  These are exactly the valid indices for a list of 4 elements.\n",
      " |  When step is given, it specifies the increment (or decrement).\n",
      " |\n",
      " |  Methods defined here:\n",
      " |\n",
      " |  __bool__(self, /)\n",
      " |      True if self else False\n",
      " |\n",
      " |  __contains__(self, key, /)\n",
      " |      Return bool(key in self).\n",
      " |\n",
      " |  __eq__(self, value, /)\n",
      " |      Return self==value.\n",
      " |\n",
      " |  __ge__(self, value, /)\n",
      " |      Return self>=value.\n",
      " |\n",
      " |  __getattribute__(self, name, /)\n",
      " |      Return getattr(self, name).\n",
      " |\n",
      " |  __getitem__(self, key, /)\n",
      " |      Return self[key].\n",
      " |\n",
      " |  __gt__(self, value, /)\n",
      " |      Return self>value.\n",
      " |\n",
      " |  __hash__(self, /)\n",
      " |      Return hash(self).\n",
      " |\n",
      " |  __iter__(self, /)\n",
      " |      Implement iter(self).\n",
      " |\n",
      " |  __le__(self, value, /)\n",
      " |      Return self<=value.\n",
      " |\n",
      " |  __len__(self, /)\n",
      " |      Return len(self).\n",
      " |\n",
      " |  __lt__(self, value, /)\n",
      " |      Return self<value.\n",
      " |\n",
      " |  __ne__(self, value, /)\n",
      " |      Return self!=value.\n",
      " |\n",
      " |  __reduce__(...)\n",
      " |      Helper for pickle.\n",
      " |\n",
      " |  __repr__(self, /)\n",
      " |      Return repr(self).\n",
      " |\n",
      " |  __reversed__(...)\n",
      " |      Return a reverse iterator.\n",
      " |\n",
      " |  count(...)\n",
      " |      rangeobject.count(value) -> integer -- return number of occurrences of value\n",
      " |\n",
      " |  index(...)\n",
      " |      rangeobject.index(value) -> integer -- return index of value.\n",
      " |      Raise ValueError if the value is not present.\n",
      " |\n",
      " |  ----------------------------------------------------------------------\n",
      " |  Static methods defined here:\n",
      " |\n",
      " |  __new__(*args, **kwargs)\n",
      " |      Create and return a new object.  See help(type) for accurate signature.\n",
      " |\n",
      " |  ----------------------------------------------------------------------\n",
      " |  Data descriptors defined here:\n",
      " |\n",
      " |  start\n",
      " |\n",
      " |  step\n",
      " |\n",
      " |  stop\n",
      "\n"
     ]
    }
   ],
   "source": [
    "help(range)"
   ]
  },
  {
   "cell_type": "code",
   "execution_count": 192,
   "id": "665e4ed9-5146-499f-a735-d8df2573f4b1",
   "metadata": {},
   "outputs": [
    {
     "name": "stdout",
     "output_type": "stream",
     "text": [
      "0\n",
      "1\n",
      "2\n",
      "3\n",
      "4\n",
      "5\n",
      "6\n",
      "7\n",
      "8\n",
      "9\n"
     ]
    }
   ],
   "source": [
    "for i in range(10):\n",
    "    print(i)"
   ]
  },
  {
   "cell_type": "code",
   "execution_count": 194,
   "id": "4bdfd4e7-6826-4599-bc6d-cbbfcdb6ff60",
   "metadata": {},
   "outputs": [
    {
     "name": "stdout",
     "output_type": "stream",
     "text": [
      "10\n",
      "8\n",
      "6\n",
      "4\n",
      "2\n"
     ]
    }
   ],
   "source": [
    "for i in range(10, 1, -2):\n",
    "    print(i)"
   ]
  },
  {
   "cell_type": "code",
   "execution_count": 198,
   "id": "be35213a-96d1-4342-a619-45328ecc0cec",
   "metadata": {},
   "outputs": [
    {
     "name": "stdout",
     "output_type": "stream",
     "text": [
      "13 is prime number\n"
     ]
    }
   ],
   "source": [
    "# prime number\n",
    "number = 13\n",
    "# (1,self) 找到额外的因子\n",
    "for i in range(2, number):\n",
    "    if number % i == 0:\n",
    "        print(number, \"is not prime number\")\n",
    "        # 破坏，中断循环\n",
    "        break\n",
    "else:\n",
    "    print(number, \"is prime number\")"
   ]
  },
  {
   "cell_type": "code",
   "execution_count": 204,
   "id": "4e996966-1fe5-4c42-a340-832993bc54f4",
   "metadata": {},
   "outputs": [
    {
     "name": "stdout",
     "output_type": "stream",
     "text": [
      "2 is a prime number\n",
      "3 is a prime number\n",
      "4 is not a prime number\n",
      "5 is a prime number\n",
      "6 is not a prime number\n",
      "7 is a prime number\n",
      "8 is not a prime number\n",
      "9 is not a prime number\n",
      "10 is not a prime number\n",
      "11 is a prime number\n",
      "12 is not a prime number\n",
      "13 is a prime number\n",
      "14 is not a prime number\n",
      "15 is not a prime number\n",
      "16 is not a prime number\n",
      "17 is a prime number\n",
      "18 is not a prime number\n",
      "19 is a prime number\n",
      "20 is not a prime number\n"
     ]
    }
   ],
   "source": [
    "for number in range(2, 21):\n",
    "    for i in range(2, number):\n",
    "        if number % i == 0:\n",
    "            print(number, \"is not a prime number\")\n",
    "            break\n",
    "    else:\n",
    "        print(number, \"is a prime number\")"
   ]
  },
  {
   "cell_type": "code",
   "execution_count": 206,
   "id": "e21e3d04-447f-47ee-8bb6-a1b61a1f020f",
   "metadata": {},
   "outputs": [
    {
     "name": "stdout",
     "output_type": "stream",
     "text": [
      "0\n",
      "1\n",
      "2\n"
     ]
    }
   ],
   "source": [
    "for i in range(5):\n",
    "    if i == 3:\n",
    "        break\n",
    "    print(i)"
   ]
  },
  {
   "cell_type": "code",
   "execution_count": 208,
   "id": "552129ba-8ad6-4aaa-91fa-40879208e677",
   "metadata": {},
   "outputs": [
    {
     "name": "stdout",
     "output_type": "stream",
     "text": [
      "0\n",
      "1\n",
      "2\n",
      "4\n"
     ]
    }
   ],
   "source": [
    "for i in range(5):\n",
    "    if i == 3:\n",
    "        continue\n",
    "    print(i)"
   ]
  },
  {
   "cell_type": "code",
   "execution_count": 212,
   "id": "76493c2c-5930-43d7-85d6-32edbda721f6",
   "metadata": {},
   "outputs": [],
   "source": [
    "for i in range(5):\n",
    "    if i == 3:\n",
    "        pass"
   ]
  },
  {
   "cell_type": "code",
   "execution_count": 214,
   "id": "bcc00ddd-9471-4727-91df-2f6466c5617e",
   "metadata": {},
   "outputs": [
    {
     "ename": "SyntaxError",
     "evalue": "incomplete input (2874194530.py, line 3)",
     "output_type": "error",
     "traceback": [
      "\u001b[0;36m  Cell \u001b[0;32mIn[214], line 3\u001b[0;36m\u001b[0m\n\u001b[0;31m    \u001b[0m\n\u001b[0m    ^\u001b[0m\n\u001b[0;31mSyntaxError\u001b[0m\u001b[0;31m:\u001b[0m incomplete input\n"
     ]
    }
   ],
   "source": [
    "for i in range(5):\n",
    "    if i == 3:\n",
    "        "
   ]
  },
  {
   "cell_type": "code",
   "execution_count": 222,
   "id": "d40ae1be-40f1-47c5-8c88-d8c2171c53d2",
   "metadata": {},
   "outputs": [
    {
     "name": "stdout",
     "output_type": "stream",
     "text": [
      "hello python <class 'str'> <class 'str'>\n"
     ]
    }
   ],
   "source": [
    "s = \"hello python\"\n",
    "# string -> str\n",
    "print(s, type(s), type(''))"
   ]
  },
  {
   "cell_type": "code",
   "execution_count": 252,
   "id": "9ae37ada-1549-4d83-b6f4-970eed702567",
   "metadata": {},
   "outputs": [
    {
     "name": "stdout",
     "output_type": "stream",
     "text": [
      "这是 david 年龄是 10 岁了 体重是 40.5 kg\n",
      "这是 david 年龄是 10 岁了 体重是 40.5 kg\n",
      "这是 david 年龄是 10 岁了 体重是 40.5 kg\n"
     ]
    }
   ],
   "source": [
    "name = \"david\"\n",
    "age = 10\n",
    "weight = 40.5\n",
    "print(\"这是\", name, \"年龄是\", age, \"岁了\", \"体重是\", weight, \"kg\")\n",
    "# format -> f\n",
    "print(f\"这是 {name} 年龄是 {age} 岁了 体重是 {weight} kg\")\n",
    "print(\"这是 %s 年龄是 %d 岁了 体重是 %.1f kg\"%(name, age, weight))"
   ]
  },
  {
   "cell_type": "code",
   "execution_count": 256,
   "id": "3e103087-c5e7-4b2e-ad70-3fd046f588db",
   "metadata": {},
   "outputs": [
    {
     "ename": "SyntaxError",
     "evalue": "invalid syntax (4032008700.py, line 1)",
     "output_type": "error",
     "traceback": [
      "\u001b[0;36m  Cell \u001b[0;32mIn[256], line 1\u001b[0;36m\u001b[0m\n\u001b[0;31m    s = \"\"hello python\"\"\u001b[0m\n\u001b[0m          ^\u001b[0m\n\u001b[0;31mSyntaxError\u001b[0m\u001b[0;31m:\u001b[0m invalid syntax\n"
     ]
    }
   ],
   "source": [
    "s = \"\"hello python\"\"\n",
    "print(s)"
   ]
  },
  {
   "cell_type": "code",
   "execution_count": 258,
   "id": "7c23f056-1e23-4b08-9b2b-eb61c0ed9ac1",
   "metadata": {},
   "outputs": [
    {
     "name": "stdout",
     "output_type": "stream",
     "text": [
      "\"hello python\"\n"
     ]
    }
   ],
   "source": [
    "# 转义\n",
    "s = \"\\\"hello python\\\"\"\n",
    "print(s)"
   ]
  },
  {
   "cell_type": "code",
   "execution_count": 262,
   "id": "f8fa04c3-1cea-4b95-bae5-98fe3330ef3d",
   "metadata": {},
   "outputs": [
    {
     "name": "stdout",
     "output_type": "stream",
     "text": [
      "1\n",
      "2\n"
     ]
    }
   ],
   "source": [
    "# \\n -> newline\n",
    "print(1, end = \"\\n\")\n",
    "print(2)"
   ]
  },
  {
   "cell_type": "code",
   "execution_count": 264,
   "id": "cd5fa31a-5fe1-4d39-821e-ed33500cfb74",
   "metadata": {},
   "outputs": [
    {
     "name": "stdout",
     "output_type": "stream",
     "text": [
      "12\n"
     ]
    }
   ],
   "source": [
    "print(1, end = \"\")\n",
    "print(2)"
   ]
  },
  {
   "cell_type": "code",
   "execution_count": 270,
   "id": "dbc30795-c623-402a-b598-619ce74c5387",
   "metadata": {},
   "outputs": [
    {
     "name": "stdout",
     "output_type": "stream",
     "text": [
      "hello\n",
      "python\n"
     ]
    }
   ],
   "source": [
    "print(\"hello\\npython\")"
   ]
  },
  {
   "cell_type": "code",
   "execution_count": 12,
   "id": "8d3f89c8-0910-414c-97f2-5817db1c423a",
   "metadata": {},
   "outputs": [
    {
     "name": "stdin",
     "output_type": "stream",
     "text": [
      "请输入用户名： admin\n",
      "请输入密码： 123456\n"
     ]
    },
    {
     "name": "stdout",
     "output_type": "stream",
     "text": [
      "username的类型<class 'str'>,password的类型<class 'str'>\n",
      "bye\n"
     ]
    }
   ],
   "source": [
    "username = input(\"请输入用户名：\")\n",
    "password = input(\"请输入密码：\")\n",
    "# input接受的数据都当作字符串处理\n",
    "print(f\"username的类型{type(username)},password的类型{type(password)}\")\n",
    "if username == \"admin\" and password == 123456:\n",
    "    print(\"hello\")\n",
    "else:\n",
    "    print(\"bye\")"
   ]
  },
  {
   "cell_type": "code",
   "execution_count": 14,
   "id": "e390c852-acb3-46ba-af9c-311e6cc59bbd",
   "metadata": {},
   "outputs": [
    {
     "name": "stdin",
     "output_type": "stream",
     "text": [
      "请输入用户名： admin\n",
      "请输入密码： 123456\n"
     ]
    },
    {
     "name": "stdout",
     "output_type": "stream",
     "text": [
      "username的类型<class 'str'>,password的类型<class 'int'>\n",
      "hello\n"
     ]
    }
   ],
   "source": [
    "username = input(\"请输入用户名：\")\n",
    "password = int(input(\"请输入密码：\"))\n",
    "# input接受的数据都当作字符串处理\n",
    "print(f\"username的类型{type(username)},password的类型{type(password)}\")\n",
    "if username == \"admin\" and password == 123456:\n",
    "    print(\"hello\")\n",
    "else:\n",
    "    print(\"bye\")"
   ]
  },
  {
   "cell_type": "code",
   "execution_count": 16,
   "id": "83452c52-5d82-47dc-839d-cff87549da30",
   "metadata": {},
   "outputs": [
    {
     "name": "stdin",
     "output_type": "stream",
     "text": [
      "请输入用户名： admin\n",
      "请输入密码： 123456.123\n"
     ]
    },
    {
     "name": "stdout",
     "output_type": "stream",
     "text": [
      "username的类型<class 'str'>,password的类型<class 'float'>\n",
      "hello\n"
     ]
    }
   ],
   "source": [
    "username = input(\"请输入用户名：\")\n",
    "password = float(input(\"请输入密码：\"))\n",
    "# input接受的数据都当作字符串处理\n",
    "print(f\"username的类型{type(username)},password的类型{type(password)}\")\n",
    "if username == \"admin\" and password == 123456.123:\n",
    "    print(\"hello\")\n",
    "else:\n",
    "    print(\"bye\")"
   ]
  },
  {
   "cell_type": "code",
   "execution_count": 24,
   "id": "c1eefc23-1cf6-4f6c-869c-ce62165868f8",
   "metadata": {},
   "outputs": [
    {
     "name": "stdin",
     "output_type": "stream",
     "text": [
      "请输入用户名： admin\n",
      "请输入密码： True\n"
     ]
    },
    {
     "name": "stdout",
     "output_type": "stream",
     "text": [
      "username的类型<class 'str'>,password的类型<class 'bool'>\n",
      "bye\n"
     ]
    }
   ],
   "source": [
    "username = input(\"请输入用户名：\")\n",
    "# evaluate -> eval\n",
    "password = eval(input(\"请输入密码：\"))\n",
    "# input接受的数据都当作字符串处理\n",
    "print(f\"username的类型{type(username)},password的类型{type(password)}\")\n",
    "if username == \"admin\" and password == 123456.123:\n",
    "    print(\"hello\")\n",
    "else:\n",
    "    print(\"bye\")"
   ]
  },
  {
   "cell_type": "code",
   "execution_count": 44,
   "id": "eac58d35-d57b-4e5f-85b3-6f7fe7d56e39",
   "metadata": {},
   "outputs": [
    {
     "name": "stdout",
     "output_type": "stream",
     "text": [
      "a f f f\n"
     ]
    }
   ],
   "source": [
    "s = \"abcdef\"\n",
    "# length -> len\n",
    "print(s[0], s[5], s[len(s)-1], s[-1])"
   ]
  },
  {
   "cell_type": "code",
   "execution_count": 38,
   "id": "eebde778-edd1-4cb1-b38d-e5927aceb810",
   "metadata": {},
   "outputs": [
    {
     "name": "stdout",
     "output_type": "stream",
     "text": [
      "a\n",
      "b\n",
      "c\n",
      "d\n",
      "e\n",
      "f\n"
     ]
    }
   ],
   "source": [
    "for i in range(len(s)):\n",
    "    print(s[i])"
   ]
  },
  {
   "cell_type": "code",
   "execution_count": 48,
   "id": "b22a0244-83a9-48cb-ac6a-1ed801c799d3",
   "metadata": {},
   "outputs": [
    {
     "name": "stdout",
     "output_type": "stream",
     "text": [
      "f\n",
      "e\n",
      "d\n",
      "c\n",
      "b\n",
      "a\n"
     ]
    }
   ],
   "source": [
    "for i in range(-1, -len(s)-1, -1):\n",
    "    print(s[i])"
   ]
  },
  {
   "cell_type": "code",
   "execution_count": 40,
   "id": "3fdd3186-f697-42ad-a281-f2d5815a26b7",
   "metadata": {},
   "outputs": [
    {
     "name": "stdout",
     "output_type": "stream",
     "text": [
      "a\n",
      "b\n",
      "c\n",
      "d\n",
      "e\n",
      "f\n"
     ]
    }
   ],
   "source": [
    "for i in s:\n",
    "    print(i)"
   ]
  },
  {
   "cell_type": "code",
   "execution_count": 42,
   "id": "292dede2-78c5-48d1-bdcf-bd96c22e147d",
   "metadata": {},
   "outputs": [
    {
     "name": "stdout",
     "output_type": "stream",
     "text": [
      "Help on class range in module builtins:\n",
      "\n",
      "class range(object)\n",
      " |  range(stop) -> range object\n",
      " |  range(start, stop[, step]) -> range object\n",
      " |\n",
      " |  Return an object that produces a sequence of integers from start (inclusive)\n",
      " |  to stop (exclusive) by step.  range(i, j) produces i, i+1, i+2, ..., j-1.\n",
      " |  start defaults to 0, and stop is omitted!  range(4) produces 0, 1, 2, 3.\n",
      " |  These are exactly the valid indices for a list of 4 elements.\n",
      " |  When step is given, it specifies the increment (or decrement).\n",
      " |\n",
      " |  Methods defined here:\n",
      " |\n",
      " |  __bool__(self, /)\n",
      " |      True if self else False\n",
      " |\n",
      " |  __contains__(self, key, /)\n",
      " |      Return bool(key in self).\n",
      " |\n",
      " |  __eq__(self, value, /)\n",
      " |      Return self==value.\n",
      " |\n",
      " |  __ge__(self, value, /)\n",
      " |      Return self>=value.\n",
      " |\n",
      " |  __getattribute__(self, name, /)\n",
      " |      Return getattr(self, name).\n",
      " |\n",
      " |  __getitem__(self, key, /)\n",
      " |      Return self[key].\n",
      " |\n",
      " |  __gt__(self, value, /)\n",
      " |      Return self>value.\n",
      " |\n",
      " |  __hash__(self, /)\n",
      " |      Return hash(self).\n",
      " |\n",
      " |  __iter__(self, /)\n",
      " |      Implement iter(self).\n",
      " |\n",
      " |  __le__(self, value, /)\n",
      " |      Return self<=value.\n",
      " |\n",
      " |  __len__(self, /)\n",
      " |      Return len(self).\n",
      " |\n",
      " |  __lt__(self, value, /)\n",
      " |      Return self<value.\n",
      " |\n",
      " |  __ne__(self, value, /)\n",
      " |      Return self!=value.\n",
      " |\n",
      " |  __reduce__(...)\n",
      " |      Helper for pickle.\n",
      " |\n",
      " |  __repr__(self, /)\n",
      " |      Return repr(self).\n",
      " |\n",
      " |  __reversed__(...)\n",
      " |      Return a reverse iterator.\n",
      " |\n",
      " |  count(...)\n",
      " |      rangeobject.count(value) -> integer -- return number of occurrences of value\n",
      " |\n",
      " |  index(...)\n",
      " |      rangeobject.index(value) -> integer -- return index of value.\n",
      " |      Raise ValueError if the value is not present.\n",
      " |\n",
      " |  ----------------------------------------------------------------------\n",
      " |  Static methods defined here:\n",
      " |\n",
      " |  __new__(*args, **kwargs)\n",
      " |      Create and return a new object.  See help(type) for accurate signature.\n",
      " |\n",
      " |  ----------------------------------------------------------------------\n",
      " |  Data descriptors defined here:\n",
      " |\n",
      " |  start\n",
      " |\n",
      " |  step\n",
      " |\n",
      " |  stop\n",
      "\n"
     ]
    }
   ],
   "source": [
    "help(range)"
   ]
  },
  {
   "cell_type": "code",
   "execution_count": 66,
   "id": "79d490a3-97b1-41ce-82b2-4885c0923f35",
   "metadata": {},
   "outputs": [
    {
     "name": "stdout",
     "output_type": "stream",
     "text": [
      "abcdef\n",
      "abcdef\n",
      "bcdef\n",
      "fedcba\n",
      "abcdef\n",
      "abcdef\n"
     ]
    }
   ],
   "source": [
    "name = \"abcdef\"\n",
    "print(name[:])\n",
    "print(name[::])\n",
    "print(name[1:])\n",
    "print(name[::-1])\n",
    "print(name[::1])\n",
    "print(name[0::1])"
   ]
  },
  {
   "cell_type": "code",
   "execution_count": 70,
   "id": "a4a7b886-87e3-4ec8-a13f-e8cab4337c8b",
   "metadata": {},
   "outputs": [
    {
     "name": "stdout",
     "output_type": "stream",
     "text": [
      "上海自来水来自海上 是回文字符串\n"
     ]
    }
   ],
   "source": [
    "# 回文字符串。上海自来水来自海上\n",
    "s = \"上海自来水来自海上\"\n",
    "if s == s[::-1]:\n",
    "    print(s, \"是回文字符串\")"
   ]
  },
  {
   "cell_type": "code",
   "execution_count": 78,
   "id": "dffdc399-74b8-41e0-8c19-0533dc84e6d8",
   "metadata": {},
   "outputs": [
    {
     "name": "stdout",
     "output_type": "stream",
     "text": [
      "pythonhello\n",
      "pythonpythonpython\n"
     ]
    }
   ],
   "source": [
    "s = \"python\" + \"hello\"\n",
    "print(s)\n",
    "print(\"python\" * 3)"
   ]
  },
  {
   "cell_type": "code",
   "execution_count": 84,
   "id": "a3766ee9-1992-4216-97fb-d5177fae748f",
   "metadata": {},
   "outputs": [
    {
     "name": "stdout",
     "output_type": "stream",
     "text": [
      "1\n"
     ]
    }
   ],
   "source": [
    "if \"hello\" in \"hello python\":\n",
    "    print(1)\n",
    "\n",
    "\n",
    "if not 'e' in \"hello\":\n",
    "    print(1)"
   ]
  },
  {
   "cell_type": "code",
   "execution_count": 90,
   "id": "95c9a0e2-0a35-4f55-b8c5-24a4544cd54e",
   "metadata": {},
   "outputs": [
    {
     "name": "stdout",
     "output_type": "stream",
     "text": [
      "hello\\npython\n"
     ]
    }
   ],
   "source": [
    "# 去转义 raw -> r\n",
    "print(r\"hello\\npython\")"
   ]
  },
  {
   "cell_type": "code",
   "execution_count": 100,
   "id": "da11693a-8840-4984-836e-d868e9bbe2a2",
   "metadata": {},
   "outputs": [
    {
     "name": "stdout",
     "output_type": "stream",
     "text": [
      "6\n",
      "-1\n",
      "6\n"
     ]
    },
    {
     "ename": "ValueError",
     "evalue": "substring not found",
     "output_type": "error",
     "traceback": [
      "\u001b[0;31m---------------------------------------------------------------------------\u001b[0m",
      "\u001b[0;31mValueError\u001b[0m                                Traceback (most recent call last)",
      "Cell \u001b[0;32mIn[100], line 5\u001b[0m\n\u001b[1;32m      3\u001b[0m \u001b[38;5;28mprint\u001b[39m(s\u001b[38;5;241m.\u001b[39mfind(\u001b[38;5;124m\"\u001b[39m\u001b[38;5;124mpyth1\u001b[39m\u001b[38;5;124m\"\u001b[39m))\n\u001b[1;32m      4\u001b[0m \u001b[38;5;28mprint\u001b[39m(s\u001b[38;5;241m.\u001b[39mindex(\u001b[38;5;124m\"\u001b[39m\u001b[38;5;124mpython\u001b[39m\u001b[38;5;124m\"\u001b[39m))\n\u001b[0;32m----> 5\u001b[0m \u001b[38;5;28mprint\u001b[39m(s\u001b[38;5;241m.\u001b[39mindex(\u001b[38;5;124m\"\u001b[39m\u001b[38;5;124mpyth1\u001b[39m\u001b[38;5;124m\"\u001b[39m))\n",
      "\u001b[0;31mValueError\u001b[0m: substring not found"
     ]
    }
   ],
   "source": [
    "s = \"hello python\"\n",
    "print(s.find(\"python\"))\n",
    "print(s.find(\"pyth1\"))\n",
    "print(s.index(\"python\"))\n",
    "print(s.index(\"pyth1\"))"
   ]
  },
  {
   "cell_type": "code",
   "execution_count": 108,
   "id": "40309957-60a3-4782-ba01-cdc92720f2a5",
   "metadata": {},
   "outputs": [
    {
     "name": "stdout",
     "output_type": "stream",
     "text": [
      "HELLO HELLO  HELLO python HELLO\n"
     ]
    }
   ],
   "source": [
    "s = \"hello hello  hello python hello\"\n",
    "print(s.replace(\"hello\", \"HELLO\"))"
   ]
  },
  {
   "cell_type": "code",
   "execution_count": 110,
   "id": "794083a4-f1df-44aa-b7a1-3386f688d134",
   "metadata": {},
   "outputs": [
    {
     "name": "stdout",
     "output_type": "stream",
     "text": [
      "4\n"
     ]
    }
   ],
   "source": [
    "s = \"hello hello  hello python hello\"\n",
    "print(s.count(\"hello\"))"
   ]
  },
  {
   "cell_type": "code",
   "execution_count": 120,
   "id": "c561999a-dee0-4670-b2a1-f808ddbfe9f3",
   "metadata": {},
   "outputs": [
    {
     "name": "stdout",
     "output_type": "stream",
     "text": [
      "Valueerror,substring,not,found\n",
      "Valueerror,Substring,Not,Found\n"
     ]
    }
   ],
   "source": [
    "s = \"ValueError,Substring,Not,found\"\n",
    "s.split(\",\")\n",
    "print(s.capitalize())\n",
    "print(s.title())"
   ]
  },
  {
   "cell_type": "code",
   "execution_count": 140,
   "id": "6265d1a7-68df-4669-bb7d-507ec27a9011",
   "metadata": {},
   "outputs": [
    {
     "name": "stdout",
     "output_type": "stream",
     "text": [
      "helloccccccccccccccc\n",
      "***************hello\n",
      "       hello        \n"
     ]
    }
   ],
   "source": [
    "s = \"hello\"\n",
    "print(s.ljust(20, 'c'))\n",
    "print(s.rjust(20, '*'))\n",
    "print(s.center(20))"
   ]
  },
  {
   "cell_type": "code",
   "execution_count": 146,
   "id": "517df464-9d2d-48f4-88ff-119c8ac219e5",
   "metadata": {},
   "outputs": [
    {
     "name": "stdin",
     "output_type": "stream",
     "text": [
      "请输入用户名： admin     \n",
      "请输入密码： 123456\n"
     ]
    },
    {
     "name": "stdout",
     "output_type": "stream",
     "text": [
      "username的类型<class 'str'>,password的类型<class 'str'>\n",
      "hello\n"
     ]
    }
   ],
   "source": [
    "username = input(\"请输入用户名：\").strip()\n",
    "password = input(\"请输入密码：\")\n",
    "# input接受的数据都当作字符串处理\n",
    "print(f\"username的类型{type(username)},password的类型{type(password)}\")\n",
    "if username == \"admin\" and password == \"123456\":\n",
    "    print(\"hello\")\n",
    "else:\n",
    "    print(\"bye\")"
   ]
  },
  {
   "cell_type": "code",
   "execution_count": 148,
   "id": "6c802437-331c-4165-8ad9-1b6ac2a28430",
   "metadata": {},
   "outputs": [
    {
     "name": "stdout",
     "output_type": "stream",
     "text": [
      "Help on class str in module builtins:\n",
      "\n",
      "class str(object)\n",
      " |  str(object='') -> str\n",
      " |  str(bytes_or_buffer[, encoding[, errors]]) -> str\n",
      " |\n",
      " |  Create a new string object from the given object. If encoding or\n",
      " |  errors is specified, then the object must expose a data buffer\n",
      " |  that will be decoded using the given encoding and error handler.\n",
      " |  Otherwise, returns the result of object.__str__() (if defined)\n",
      " |  or repr(object).\n",
      " |  encoding defaults to sys.getdefaultencoding().\n",
      " |  errors defaults to 'strict'.\n",
      " |\n",
      " |  Methods defined here:\n",
      " |\n",
      " |  __add__(self, value, /)\n",
      " |      Return self+value.\n",
      " |\n",
      " |  __contains__(self, key, /)\n",
      " |      Return bool(key in self).\n",
      " |\n",
      " |  __eq__(self, value, /)\n",
      " |      Return self==value.\n",
      " |\n",
      " |  __format__(self, format_spec, /)\n",
      " |      Return a formatted version of the string as described by format_spec.\n",
      " |\n",
      " |  __ge__(self, value, /)\n",
      " |      Return self>=value.\n",
      " |\n",
      " |  __getitem__(self, key, /)\n",
      " |      Return self[key].\n",
      " |\n",
      " |  __getnewargs__(...)\n",
      " |\n",
      " |  __gt__(self, value, /)\n",
      " |      Return self>value.\n",
      " |\n",
      " |  __hash__(self, /)\n",
      " |      Return hash(self).\n",
      " |\n",
      " |  __iter__(self, /)\n",
      " |      Implement iter(self).\n",
      " |\n",
      " |  __le__(self, value, /)\n",
      " |      Return self<=value.\n",
      " |\n",
      " |  __len__(self, /)\n",
      " |      Return len(self).\n",
      " |\n",
      " |  __lt__(self, value, /)\n",
      " |      Return self<value.\n",
      " |\n",
      " |  __mod__(self, value, /)\n",
      " |      Return self%value.\n",
      " |\n",
      " |  __mul__(self, value, /)\n",
      " |      Return self*value.\n",
      " |\n",
      " |  __ne__(self, value, /)\n",
      " |      Return self!=value.\n",
      " |\n",
      " |  __repr__(self, /)\n",
      " |      Return repr(self).\n",
      " |\n",
      " |  __rmod__(self, value, /)\n",
      " |      Return value%self.\n",
      " |\n",
      " |  __rmul__(self, value, /)\n",
      " |      Return value*self.\n",
      " |\n",
      " |  __sizeof__(self, /)\n",
      " |      Return the size of the string in memory, in bytes.\n",
      " |\n",
      " |  __str__(self, /)\n",
      " |      Return str(self).\n",
      " |\n",
      " |  capitalize(self, /)\n",
      " |      Return a capitalized version of the string.\n",
      " |\n",
      " |      More specifically, make the first character have upper case and the rest lower\n",
      " |      case.\n",
      " |\n",
      " |  casefold(self, /)\n",
      " |      Return a version of the string suitable for caseless comparisons.\n",
      " |\n",
      " |  center(self, width, fillchar=' ', /)\n",
      " |      Return a centered string of length width.\n",
      " |\n",
      " |      Padding is done using the specified fill character (default is a space).\n",
      " |\n",
      " |  count(...)\n",
      " |      S.count(sub[, start[, end]]) -> int\n",
      " |\n",
      " |      Return the number of non-overlapping occurrences of substring sub in\n",
      " |      string S[start:end].  Optional arguments start and end are\n",
      " |      interpreted as in slice notation.\n",
      " |\n",
      " |  encode(self, /, encoding='utf-8', errors='strict')\n",
      " |      Encode the string using the codec registered for encoding.\n",
      " |\n",
      " |      encoding\n",
      " |        The encoding in which to encode the string.\n",
      " |      errors\n",
      " |        The error handling scheme to use for encoding errors.\n",
      " |        The default is 'strict' meaning that encoding errors raise a\n",
      " |        UnicodeEncodeError.  Other possible values are 'ignore', 'replace' and\n",
      " |        'xmlcharrefreplace' as well as any other name registered with\n",
      " |        codecs.register_error that can handle UnicodeEncodeErrors.\n",
      " |\n",
      " |  endswith(...)\n",
      " |      S.endswith(suffix[, start[, end]]) -> bool\n",
      " |\n",
      " |      Return True if S ends with the specified suffix, False otherwise.\n",
      " |      With optional start, test S beginning at that position.\n",
      " |      With optional end, stop comparing S at that position.\n",
      " |      suffix can also be a tuple of strings to try.\n",
      " |\n",
      " |  expandtabs(self, /, tabsize=8)\n",
      " |      Return a copy where all tab characters are expanded using spaces.\n",
      " |\n",
      " |      If tabsize is not given, a tab size of 8 characters is assumed.\n",
      " |\n",
      " |  find(...)\n",
      " |      S.find(sub[, start[, end]]) -> int\n",
      " |\n",
      " |      Return the lowest index in S where substring sub is found,\n",
      " |      such that sub is contained within S[start:end].  Optional\n",
      " |      arguments start and end are interpreted as in slice notation.\n",
      " |\n",
      " |      Return -1 on failure.\n",
      " |\n",
      " |  format(...)\n",
      " |      S.format(*args, **kwargs) -> str\n",
      " |\n",
      " |      Return a formatted version of S, using substitutions from args and kwargs.\n",
      " |      The substitutions are identified by braces ('{' and '}').\n",
      " |\n",
      " |  format_map(...)\n",
      " |      S.format_map(mapping) -> str\n",
      " |\n",
      " |      Return a formatted version of S, using substitutions from mapping.\n",
      " |      The substitutions are identified by braces ('{' and '}').\n",
      " |\n",
      " |  index(...)\n",
      " |      S.index(sub[, start[, end]]) -> int\n",
      " |\n",
      " |      Return the lowest index in S where substring sub is found,\n",
      " |      such that sub is contained within S[start:end].  Optional\n",
      " |      arguments start and end are interpreted as in slice notation.\n",
      " |\n",
      " |      Raises ValueError when the substring is not found.\n",
      " |\n",
      " |  isalnum(self, /)\n",
      " |      Return True if the string is an alpha-numeric string, False otherwise.\n",
      " |\n",
      " |      A string is alpha-numeric if all characters in the string are alpha-numeric and\n",
      " |      there is at least one character in the string.\n",
      " |\n",
      " |  isalpha(self, /)\n",
      " |      Return True if the string is an alphabetic string, False otherwise.\n",
      " |\n",
      " |      A string is alphabetic if all characters in the string are alphabetic and there\n",
      " |      is at least one character in the string.\n",
      " |\n",
      " |  isascii(self, /)\n",
      " |      Return True if all characters in the string are ASCII, False otherwise.\n",
      " |\n",
      " |      ASCII characters have code points in the range U+0000-U+007F.\n",
      " |      Empty string is ASCII too.\n",
      " |\n",
      " |  isdecimal(self, /)\n",
      " |      Return True if the string is a decimal string, False otherwise.\n",
      " |\n",
      " |      A string is a decimal string if all characters in the string are decimal and\n",
      " |      there is at least one character in the string.\n",
      " |\n",
      " |  isdigit(self, /)\n",
      " |      Return True if the string is a digit string, False otherwise.\n",
      " |\n",
      " |      A string is a digit string if all characters in the string are digits and there\n",
      " |      is at least one character in the string.\n",
      " |\n",
      " |  isidentifier(self, /)\n",
      " |      Return True if the string is a valid Python identifier, False otherwise.\n",
      " |\n",
      " |      Call keyword.iskeyword(s) to test whether string s is a reserved identifier,\n",
      " |      such as \"def\" or \"class\".\n",
      " |\n",
      " |  islower(self, /)\n",
      " |      Return True if the string is a lowercase string, False otherwise.\n",
      " |\n",
      " |      A string is lowercase if all cased characters in the string are lowercase and\n",
      " |      there is at least one cased character in the string.\n",
      " |\n",
      " |  isnumeric(self, /)\n",
      " |      Return True if the string is a numeric string, False otherwise.\n",
      " |\n",
      " |      A string is numeric if all characters in the string are numeric and there is at\n",
      " |      least one character in the string.\n",
      " |\n",
      " |  isprintable(self, /)\n",
      " |      Return True if the string is printable, False otherwise.\n",
      " |\n",
      " |      A string is printable if all of its characters are considered printable in\n",
      " |      repr() or if it is empty.\n",
      " |\n",
      " |  isspace(self, /)\n",
      " |      Return True if the string is a whitespace string, False otherwise.\n",
      " |\n",
      " |      A string is whitespace if all characters in the string are whitespace and there\n",
      " |      is at least one character in the string.\n",
      " |\n",
      " |  istitle(self, /)\n",
      " |      Return True if the string is a title-cased string, False otherwise.\n",
      " |\n",
      " |      In a title-cased string, upper- and title-case characters may only\n",
      " |      follow uncased characters and lowercase characters only cased ones.\n",
      " |\n",
      " |  isupper(self, /)\n",
      " |      Return True if the string is an uppercase string, False otherwise.\n",
      " |\n",
      " |      A string is uppercase if all cased characters in the string are uppercase and\n",
      " |      there is at least one cased character in the string.\n",
      " |\n",
      " |  join(self, iterable, /)\n",
      " |      Concatenate any number of strings.\n",
      " |\n",
      " |      The string whose method is called is inserted in between each given string.\n",
      " |      The result is returned as a new string.\n",
      " |\n",
      " |      Example: '.'.join(['ab', 'pq', 'rs']) -> 'ab.pq.rs'\n",
      " |\n",
      " |  ljust(self, width, fillchar=' ', /)\n",
      " |      Return a left-justified string of length width.\n",
      " |\n",
      " |      Padding is done using the specified fill character (default is a space).\n",
      " |\n",
      " |  lower(self, /)\n",
      " |      Return a copy of the string converted to lowercase.\n",
      " |\n",
      " |  lstrip(self, chars=None, /)\n",
      " |      Return a copy of the string with leading whitespace removed.\n",
      " |\n",
      " |      If chars is given and not None, remove characters in chars instead.\n",
      " |\n",
      " |  partition(self, sep, /)\n",
      " |      Partition the string into three parts using the given separator.\n",
      " |\n",
      " |      This will search for the separator in the string.  If the separator is found,\n",
      " |      returns a 3-tuple containing the part before the separator, the separator\n",
      " |      itself, and the part after it.\n",
      " |\n",
      " |      If the separator is not found, returns a 3-tuple containing the original string\n",
      " |      and two empty strings.\n",
      " |\n",
      " |  removeprefix(self, prefix, /)\n",
      " |      Return a str with the given prefix string removed if present.\n",
      " |\n",
      " |      If the string starts with the prefix string, return string[len(prefix):].\n",
      " |      Otherwise, return a copy of the original string.\n",
      " |\n",
      " |  removesuffix(self, suffix, /)\n",
      " |      Return a str with the given suffix string removed if present.\n",
      " |\n",
      " |      If the string ends with the suffix string and that suffix is not empty,\n",
      " |      return string[:-len(suffix)]. Otherwise, return a copy of the original\n",
      " |      string.\n",
      " |\n",
      " |  replace(self, old, new, count=-1, /)\n",
      " |      Return a copy with all occurrences of substring old replaced by new.\n",
      " |\n",
      " |        count\n",
      " |          Maximum number of occurrences to replace.\n",
      " |          -1 (the default value) means replace all occurrences.\n",
      " |\n",
      " |      If the optional argument count is given, only the first count occurrences are\n",
      " |      replaced.\n",
      " |\n",
      " |  rfind(...)\n",
      " |      S.rfind(sub[, start[, end]]) -> int\n",
      " |\n",
      " |      Return the highest index in S where substring sub is found,\n",
      " |      such that sub is contained within S[start:end].  Optional\n",
      " |      arguments start and end are interpreted as in slice notation.\n",
      " |\n",
      " |      Return -1 on failure.\n",
      " |\n",
      " |  rindex(...)\n",
      " |      S.rindex(sub[, start[, end]]) -> int\n",
      " |\n",
      " |      Return the highest index in S where substring sub is found,\n",
      " |      such that sub is contained within S[start:end].  Optional\n",
      " |      arguments start and end are interpreted as in slice notation.\n",
      " |\n",
      " |      Raises ValueError when the substring is not found.\n",
      " |\n",
      " |  rjust(self, width, fillchar=' ', /)\n",
      " |      Return a right-justified string of length width.\n",
      " |\n",
      " |      Padding is done using the specified fill character (default is a space).\n",
      " |\n",
      " |  rpartition(self, sep, /)\n",
      " |      Partition the string into three parts using the given separator.\n",
      " |\n",
      " |      This will search for the separator in the string, starting at the end. If\n",
      " |      the separator is found, returns a 3-tuple containing the part before the\n",
      " |      separator, the separator itself, and the part after it.\n",
      " |\n",
      " |      If the separator is not found, returns a 3-tuple containing two empty strings\n",
      " |      and the original string.\n",
      " |\n",
      " |  rsplit(self, /, sep=None, maxsplit=-1)\n",
      " |      Return a list of the substrings in the string, using sep as the separator string.\n",
      " |\n",
      " |        sep\n",
      " |          The separator used to split the string.\n",
      " |\n",
      " |          When set to None (the default value), will split on any whitespace\n",
      " |          character (including \\n \\r \\t \\f and spaces) and will discard\n",
      " |          empty strings from the result.\n",
      " |        maxsplit\n",
      " |          Maximum number of splits.\n",
      " |          -1 (the default value) means no limit.\n",
      " |\n",
      " |      Splitting starts at the end of the string and works to the front.\n",
      " |\n",
      " |  rstrip(self, chars=None, /)\n",
      " |      Return a copy of the string with trailing whitespace removed.\n",
      " |\n",
      " |      If chars is given and not None, remove characters in chars instead.\n",
      " |\n",
      " |  split(self, /, sep=None, maxsplit=-1)\n",
      " |      Return a list of the substrings in the string, using sep as the separator string.\n",
      " |\n",
      " |        sep\n",
      " |          The separator used to split the string.\n",
      " |\n",
      " |          When set to None (the default value), will split on any whitespace\n",
      " |          character (including \\n \\r \\t \\f and spaces) and will discard\n",
      " |          empty strings from the result.\n",
      " |        maxsplit\n",
      " |          Maximum number of splits.\n",
      " |          -1 (the default value) means no limit.\n",
      " |\n",
      " |      Splitting starts at the front of the string and works to the end.\n",
      " |\n",
      " |      Note, str.split() is mainly useful for data that has been intentionally\n",
      " |      delimited.  With natural text that includes punctuation, consider using\n",
      " |      the regular expression module.\n",
      " |\n",
      " |  splitlines(self, /, keepends=False)\n",
      " |      Return a list of the lines in the string, breaking at line boundaries.\n",
      " |\n",
      " |      Line breaks are not included in the resulting list unless keepends is given and\n",
      " |      true.\n",
      " |\n",
      " |  startswith(...)\n",
      " |      S.startswith(prefix[, start[, end]]) -> bool\n",
      " |\n",
      " |      Return True if S starts with the specified prefix, False otherwise.\n",
      " |      With optional start, test S beginning at that position.\n",
      " |      With optional end, stop comparing S at that position.\n",
      " |      prefix can also be a tuple of strings to try.\n",
      " |\n",
      " |  strip(self, chars=None, /)\n",
      " |      Return a copy of the string with leading and trailing whitespace removed.\n",
      " |\n",
      " |      If chars is given and not None, remove characters in chars instead.\n",
      " |\n",
      " |  swapcase(self, /)\n",
      " |      Convert uppercase characters to lowercase and lowercase characters to uppercase.\n",
      " |\n",
      " |  title(self, /)\n",
      " |      Return a version of the string where each word is titlecased.\n",
      " |\n",
      " |      More specifically, words start with uppercased characters and all remaining\n",
      " |      cased characters have lower case.\n",
      " |\n",
      " |  translate(self, table, /)\n",
      " |      Replace each character in the string using the given translation table.\n",
      " |\n",
      " |        table\n",
      " |          Translation table, which must be a mapping of Unicode ordinals to\n",
      " |          Unicode ordinals, strings, or None.\n",
      " |\n",
      " |      The table must implement lookup/indexing via __getitem__, for instance a\n",
      " |      dictionary or list.  If this operation raises LookupError, the character is\n",
      " |      left untouched.  Characters mapped to None are deleted.\n",
      " |\n",
      " |  upper(self, /)\n",
      " |      Return a copy of the string converted to uppercase.\n",
      " |\n",
      " |  zfill(self, width, /)\n",
      " |      Pad a numeric string with zeros on the left, to fill a field of the given width.\n",
      " |\n",
      " |      The string is never truncated.\n",
      " |\n",
      " |  ----------------------------------------------------------------------\n",
      " |  Static methods defined here:\n",
      " |\n",
      " |  __new__(*args, **kwargs)\n",
      " |      Create and return a new object.  See help(type) for accurate signature.\n",
      " |\n",
      " |  maketrans(...)\n",
      " |      Return a translation table usable for str.translate().\n",
      " |\n",
      " |      If there is only one argument, it must be a dictionary mapping Unicode\n",
      " |      ordinals (integers) or characters to Unicode ordinals, strings or None.\n",
      " |      Character keys will be then converted to ordinals.\n",
      " |      If there are two arguments, they must be strings of equal length, and\n",
      " |      in the resulting dictionary, each character in x will be mapped to the\n",
      " |      character at the same position in y. If there is a third argument, it\n",
      " |      must be a string, whose characters will be mapped to None in the result.\n",
      "\n"
     ]
    }
   ],
   "source": [
    "help(str)"
   ]
  },
  {
   "cell_type": "markdown",
   "id": "f6375353-cfc6-4b8e-b5e3-3a2cd1d8cbdf",
   "metadata": {},
   "source": [
    "#### 密码校验\n",
    "你是一名密码管理员，需要对用户输入的密码进行安全检查。用户输入的密码是一个字符串，要求如下：\n",
    "- 密码长度必须在 8 到 15 个字符之间（包含 8 和 15）。\n",
    "- 密码中必须至少包含一个大写字母、一个小写字母和一个数字。\n",
    "- 密码中不能包含空格。\n",
    "  \n",
    "请编写一个 Python 程序，实现对用户输入密码的检查功能，并根据检查结果输出相应的信息：\n",
    "- 如果密码符合要求，输出 \"密码安全，通过检查。\"\n",
    "- 如果密码长度不符合要求，输出 \"密码长度必须在 8 到 15 个字符之间，请重新输入。\"\n",
    "- 如果密码中没有包含至少一个大写字母、一个小写字母和一个数字，输出 \"密码必须包含至少一个大写字母、一个小写字母和一个数字，请重新输入。\"\n",
    "- 如果密码中包含空格，输出 \"密码不能包含空格，请重新输入。\""
   ]
  },
  {
   "cell_type": "code",
   "execution_count": 160,
   "id": "8fc1e041-a1ca-46ff-ab95-fd7b20e97b26",
   "metadata": {},
   "outputs": [
    {
     "name": "stdin",
     "output_type": "stream",
     "text": [
      "please enter your password: ajfaldjf12\n"
     ]
    },
    {
     "name": "stdout",
     "output_type": "stream",
     "text": [
      "密码不符合要求\n"
     ]
    }
   ],
   "source": [
    "password = input(\"please enter your password:\")\n",
    "if 8 <= len(password) <= 15:\n",
    "    upper_flag = False\n",
    "    lower_flag = False\n",
    "    digit_flag = True\n",
    "    space_flag = False\n",
    "    for c in password:\n",
    "        if c.isupper():\n",
    "            upper_flag = True\n",
    "        elif c.islower():\n",
    "            lower_flag = True\n",
    "        elif c.isdigit():\n",
    "            digit_flag = True\n",
    "        elif c.ispace():\n",
    "            space_flag = True\n",
    "\n",
    "    if upper_flag and lower_flag and digit_flag and space_flag == False:\n",
    "        print(\"密码安全，通过检查\")\n",
    "    else:\n",
    "        print(\"密码不符合要求\")\n",
    "\n",
    "else:\n",
    "    print(\"密码长度必须在 8 到 15 个字符之间，请重新输入。\")"
   ]
  },
  {
   "cell_type": "code",
   "execution_count": 85,
   "id": "90899fa4-326d-4388-a9ca-2a87c60828e1",
   "metadata": {},
   "outputs": [
    {
     "name": "stdin",
     "output_type": "stream",
     "text": [
      "please enter your password: asdfadf\n"
     ]
    },
    {
     "name": "stdout",
     "output_type": "stream",
     "text": [
      "密码不符合要求\n"
     ]
    }
   ],
   "source": [
    "def check_password(password):\n",
    "    if 8 <= len(password) <= 15:\n",
    "        upper_flag = False\n",
    "        lower_flag = False\n",
    "        digit_flag = True\n",
    "        for c in password:\n",
    "            if c.isupper():\n",
    "                upper_flag = True\n",
    "            elif c.islower():\n",
    "                lower_flag = True\n",
    "            elif c.isdigit():\n",
    "                digit_flag = True\n",
    "            elif c.ispace():\n",
    "                return \"密码不符合要求\"\n",
    "            if upper_flag and lower_flag and digit_flag:\n",
    "                return \"密码安全，通过检查\"\n",
    "    \n",
    "    return \"密码不符合要求\"\n",
    "password = input(\"please enter your password:\")\n",
    "print(check_password(password))"
   ]
  },
  {
   "cell_type": "code",
   "execution_count": 168,
   "id": "fedacd9d-f67f-4cda-9aa1-a91e850deb08",
   "metadata": {},
   "outputs": [
    {
     "name": "stdout",
     "output_type": "stream",
     "text": [
      "1\n",
      "2\n",
      "3\n",
      "4\n",
      "name\n",
      "2\n"
     ]
    }
   ],
   "source": [
    "num_lst = [1,2,3,4, \"name\"]\n",
    "for num in num_lst:\n",
    "    print(num)\n",
    "\n",
    "print(num_lst[1])"
   ]
  },
  {
   "cell_type": "code",
   "execution_count": 170,
   "id": "d9fb19d1-046f-41e7-bfe3-5a712bb5c478",
   "metadata": {},
   "outputs": [
    {
     "name": "stdout",
     "output_type": "stream",
     "text": [
      "1\n",
      "2\n",
      "3\n",
      "4\n",
      "name\n"
     ]
    }
   ],
   "source": [
    "num_lst = [1,2,3,4, \"name\"]\n",
    "\n",
    "i = 0\n",
    "while i < len(num_lst):\n",
    "    print(num_lst[i])\n",
    "    i += 1"
   ]
  },
  {
   "cell_type": "code",
   "execution_count": 188,
   "id": "f85cd428-b48f-4ebc-8c8a-79caa901aaf3",
   "metadata": {},
   "outputs": [
    {
     "name": "stdout",
     "output_type": "stream",
     "text": [
      "[1, 2, 3, 4, 5, 6] <class 'list'>\n",
      "[10, 2, 3, 4, 5, 6]\n",
      "[10, 2, 3, 4, 5, 6, 20, 1230, 11, [4, 5, 6]]\n"
     ]
    }
   ],
   "source": [
    "lst = [1,2,3,4,5,6]\n",
    "lst2 = [4,5,6]\n",
    "print(lst, type(lst))\n",
    "lst[0] = 10\n",
    "print(lst)\n",
    "lst.append(20)\n",
    "lst.append(1230)\n",
    "lst.append(11)\n",
    "lst.append(lst2)\n",
    "print(lst)"
   ]
  },
  {
   "cell_type": "code",
   "execution_count": 186,
   "id": "6b863f49-a0f0-451b-8221-6872811e0f76",
   "metadata": {},
   "outputs": [
    {
     "name": "stdout",
     "output_type": "stream",
     "text": [
      "[1, 2, 3, 4, 5, 6]\n"
     ]
    }
   ],
   "source": [
    "lst1 = [1,2,3]\n",
    "lst2 = [4,5,6]\n",
    "lst1.extend(lst2)\n",
    "print(lst1)"
   ]
  },
  {
   "cell_type": "code",
   "execution_count": 190,
   "id": "de0ece88-18d0-43f7-bee0-59dc67d8cde7",
   "metadata": {},
   "outputs": [
    {
     "name": "stdout",
     "output_type": "stream",
     "text": [
      "['david', 1, 2, 3]\n"
     ]
    }
   ],
   "source": [
    "lst = [1,2,3]\n",
    "lst.insert(0, \"david\")\n",
    "print(lst)"
   ]
  },
  {
   "cell_type": "code",
   "execution_count": 192,
   "id": "22a29eb8-59af-4641-bdbf-faae06ff16a1",
   "metadata": {},
   "outputs": [
    {
     "name": "stdout",
     "output_type": "stream",
     "text": [
      "hello\n"
     ]
    }
   ],
   "source": [
    "lst = [1,2,3]\n",
    "if 2 in lst:\n",
    "    print(\"hello\")"
   ]
  },
  {
   "cell_type": "code",
   "execution_count": 194,
   "id": "82b479d1-b701-470f-ac2b-2fb23c06fae4",
   "metadata": {},
   "outputs": [
    {
     "name": "stdout",
     "output_type": "stream",
     "text": [
      "[2, 3]\n"
     ]
    }
   ],
   "source": [
    "lst = [1,2,3]\n",
    "del lst[0]\n",
    "\n",
    "print(lst)"
   ]
  },
  {
   "cell_type": "code",
   "execution_count": 196,
   "id": "f476ab2a-61eb-42cc-b6dc-bae9b7ac8776",
   "metadata": {},
   "outputs": [
    {
     "name": "stdout",
     "output_type": "stream",
     "text": [
      "[1, 2]\n"
     ]
    }
   ],
   "source": [
    "lst = [1,2,3]\n",
    "del lst[2]\n",
    "\n",
    "print(lst)"
   ]
  },
  {
   "cell_type": "code",
   "execution_count": 202,
   "id": "2bc3c6b8-39b1-419a-95c1-76c09f3e5b11",
   "metadata": {},
   "outputs": [
    {
     "name": "stdout",
     "output_type": "stream",
     "text": [
      "[1, 2]\n",
      "[1]\n",
      "[]\n"
     ]
    }
   ],
   "source": [
    "lst = [1,2,3]\n",
    "lst.pop()\n",
    "print(lst)\n",
    "lst.pop()\n",
    "print(lst)\n",
    "lst.pop()\n",
    "print(lst)"
   ]
  },
  {
   "cell_type": "code",
   "execution_count": 206,
   "id": "8add6edd-69c4-4396-a014-5f934eda387e",
   "metadata": {},
   "outputs": [
    {
     "name": "stdout",
     "output_type": "stream",
     "text": [
      "['alice', 'cris']\n",
      "['alice']\n"
     ]
    }
   ],
   "source": [
    "name_lst = ['david', 'alice', 'cris']\n",
    "name_lst.remove('david')\n",
    "print(name_lst)\n",
    "name_lst.remove('cris')\n",
    "print(name_lst)"
   ]
  },
  {
   "cell_type": "code",
   "execution_count": 212,
   "id": "32056cbd-cc5a-4434-b848-621e3731be4f",
   "metadata": {},
   "outputs": [
    {
     "name": "stdout",
     "output_type": "stream",
     "text": [
      "[12, 8, 0, 13, 15, 2]\n",
      "[15, 13, 12, 8, 2, 0]\n"
     ]
    }
   ],
   "source": [
    "lst = [12,8,0,13,15,2]\n",
    "print(lst)\n",
    "# 逆置\n",
    "print(sorted(lst, reverse=True))"
   ]
  },
  {
   "cell_type": "code",
   "execution_count": 214,
   "id": "e289487c-dbd1-40a3-859d-08bc32926468",
   "metadata": {},
   "outputs": [
    {
     "name": "stdout",
     "output_type": "stream",
     "text": [
      "Help on built-in function sorted in module builtins:\n",
      "\n",
      "sorted(iterable, /, *, key=None, reverse=False)\n",
      "    Return a new list containing all items from the iterable in ascending order.\n",
      "\n",
      "    A custom key function can be supplied to customize the sort order, and the\n",
      "    reverse flag can be set to request the result in descending order.\n",
      "\n"
     ]
    }
   ],
   "source": [
    "help(sorted)"
   ]
  },
  {
   "cell_type": "code",
   "execution_count": 220,
   "id": "bb637929-951d-45be-ad56-de93bf55f8de",
   "metadata": {},
   "outputs": [
    {
     "name": "stdout",
     "output_type": "stream",
     "text": [
      "[2, 15, 13, 0, 8, 12]\n"
     ]
    }
   ],
   "source": [
    "lst = [12,8,0,13,15,2]\n",
    "lst.reverse()\n",
    "print(lst)"
   ]
  },
  {
   "cell_type": "code",
   "execution_count": 234,
   "id": "cdaf678e-f377-434a-a906-b6ba1a65c72f",
   "metadata": {},
   "outputs": [
    {
     "name": "stdout",
     "output_type": "stream",
     "text": [
      "北京大学university\n",
      "清华大学university\n",
      "南开大学university\n",
      "天津大学university\n",
      "天津师范大学university\n",
      "山东大学university\n",
      "中国海洋大学university\n"
     ]
    }
   ],
   "source": [
    "schoolNames = [['北京大学','清华大学'],\n",
    "               ['南开大学','天津大学','天津师范大学'],\n",
    "              ['山东大学','中国海洋大学']]\n",
    "\n",
    "# print(schoolNames)\n",
    "for region_schools in schoolNames:\n",
    "    # print(region_schools)\n",
    "    for school in region_schools:\n",
    "        print(school + \"university\")"
   ]
  },
  {
   "cell_type": "code",
   "execution_count": 242,
   "id": "32da1cc3-5a42-4290-a46d-a2b2075b03ce",
   "metadata": {},
   "outputs": [
    {
     "name": "stdout",
     "output_type": "stream",
     "text": [
      "46\n",
      "11\n",
      "1\n",
      "7\n"
     ]
    }
   ],
   "source": [
    "num_lst = [1,3,5,7,9,10,11]\n",
    "print(sum(num_lst))\n",
    "print(max(num_lst))\n",
    "print(min(num_lst))\n",
    "print(len(num_lst))"
   ]
  },
  {
   "cell_type": "code",
   "execution_count": 244,
   "id": "e0492811-a5d4-4d3c-9c5f-b267e30cccf1",
   "metadata": {},
   "outputs": [
    {
     "name": "stdout",
     "output_type": "stream",
     "text": [
      "46\n"
     ]
    }
   ],
   "source": [
    "total = 0\n",
    "for num in num_lst:\n",
    "    total += num\n",
    "\n",
    "print(total)"
   ]
  },
  {
   "cell_type": "code",
   "execution_count": 246,
   "id": "b2154eb3-ceb6-437f-a374-ed405863a445",
   "metadata": {},
   "outputs": [
    {
     "name": "stdout",
     "output_type": "stream",
     "text": [
      "[2, 3, 5, 7, 11, 13, 17, 19, 23, 29, 31, 37, 41, 43, 47, 53, 59, 61, 67, 71, 73, 79, 83, 89, 97]\n"
     ]
    }
   ],
   "source": [
    "prime_lst = []\n",
    "for num in range(2, 101):\n",
    "    for i in range(2, num):\n",
    "        if num % i == 0:\n",
    "            break\n",
    "    else:\n",
    "        prime_lst.append(num)\n",
    "\n",
    "print(prime_lst)"
   ]
  },
  {
   "cell_type": "code",
   "execution_count": 28,
   "id": "b56c524e-8621-4a19-b5dc-badb04671b46",
   "metadata": {},
   "outputs": [
    {
     "name": "stdout",
     "output_type": "stream",
     "text": [
      "(1, 2, 3)\n",
      "(2, 3, 4)\n",
      "(3,) <class 'tuple'>\n",
      "() <class 'tuple'>\n"
     ]
    }
   ],
   "source": [
    "tup1 = (1,2,3)\n",
    "print(tup1)\n",
    "tup2 = 2,3,4\n",
    "print(tup2)\n",
    "tup3 = (3,)\n",
    "print(tup3, type(tup3))\n",
    "tup4 = tuple() # ()\n",
    "print(tup4, type(tup4))"
   ]
  },
  {
   "cell_type": "code",
   "execution_count": 18,
   "id": "cd97a990-7cd4-4551-8d72-484d25a63a8e",
   "metadata": {},
   "outputs": [
    {
     "data": {
      "text/plain": [
       "9"
      ]
     },
     "execution_count": 18,
     "metadata": {},
     "output_type": "execute_result"
    }
   ],
   "source": [
    "(1+2) * 3"
   ]
  },
  {
   "cell_type": "code",
   "execution_count": 30,
   "id": "2c42625b-1f84-4e6d-8612-69c462ac4600",
   "metadata": {},
   "outputs": [
    {
     "ename": "TypeError",
     "evalue": "'tuple' object does not support item assignment",
     "output_type": "error",
     "traceback": [
      "\u001b[0;31m---------------------------------------------------------------------------\u001b[0m",
      "\u001b[0;31mTypeError\u001b[0m                                 Traceback (most recent call last)",
      "Cell \u001b[0;32mIn[30], line 2\u001b[0m\n\u001b[1;32m      1\u001b[0m tup \u001b[38;5;241m=\u001b[39m (\u001b[38;5;241m1\u001b[39m,\u001b[38;5;241m2\u001b[39m,\u001b[38;5;241m3\u001b[39m)\n\u001b[0;32m----> 2\u001b[0m tup[\u001b[38;5;241m0\u001b[39m] \u001b[38;5;241m=\u001b[39m \u001b[38;5;241m8\u001b[39m\n",
      "\u001b[0;31mTypeError\u001b[0m: 'tuple' object does not support item assignment"
     ]
    }
   ],
   "source": [
    "tup = (1,2,3)\n",
    "tup[0] = 8"
   ]
  },
  {
   "cell_type": "code",
   "execution_count": 32,
   "id": "b844dc42-c252-4c5a-9ac3-0d9fe2f70c92",
   "metadata": {},
   "outputs": [
    {
     "name": "stdout",
     "output_type": "stream",
     "text": [
      "1\n",
      "2\n",
      "3\n"
     ]
    }
   ],
   "source": [
    "tup = (1,2,3)\n",
    "for item in tup:\n",
    "    print(item)"
   ]
  },
  {
   "cell_type": "code",
   "execution_count": 58,
   "id": "586bc14e-b7a4-4cbd-ac23-2d66f4ca7eda",
   "metadata": {},
   "outputs": [
    {
     "name": "stdout",
     "output_type": "stream",
     "text": [
      "david m\n",
      "<class 'dict'>\n",
      "18\n",
      "{'name': 'alice', 'sex': 'm', 'address': '北京'}\n",
      "{'name': 'alice', 'sex': 'm', 'address': '北京', 'age': 18}\n",
      "{'name': 'alice', 'sex': 'm', 'address': '北京'}\n"
     ]
    },
    {
     "ename": "NameError",
     "evalue": "name 'info' is not defined",
     "output_type": "error",
     "traceback": [
      "\u001b[0;31m---------------------------------------------------------------------------\u001b[0m",
      "\u001b[0;31mNameError\u001b[0m                                 Traceback (most recent call last)",
      "Cell \u001b[0;32mIn[58], line 12\u001b[0m\n\u001b[1;32m     10\u001b[0m \u001b[38;5;28mprint\u001b[39m(info)\n\u001b[1;32m     11\u001b[0m \u001b[38;5;28;01mdel\u001b[39;00m info\n\u001b[0;32m---> 12\u001b[0m \u001b[38;5;28mprint\u001b[39m(info)\n",
      "\u001b[0;31mNameError\u001b[0m: name 'info' is not defined"
     ]
    }
   ],
   "source": [
    "info = {'name':'david', 'sex':'m', 'address':'北京'}\n",
    "print(info['name'], info['sex']) #  info['score']\n",
    "print(type(info)) # dict -> dictionary\n",
    "print(info.get('age', 18))\n",
    "info['name'] = 'alice'\n",
    "print(info)\n",
    "info['age'] = 18\n",
    "print(info)\n",
    "del info['age']\n",
    "print(info)\n",
    "del info\n",
    "print(info)"
   ]
  },
  {
   "cell_type": "code",
   "execution_count": 62,
   "id": "7a8bfa28-f04d-4ba9-bd6d-5797a5df1fb7",
   "metadata": {},
   "outputs": [
    {
     "name": "stdout",
     "output_type": "stream",
     "text": [
      "{}\n"
     ]
    }
   ],
   "source": [
    "info = {'name':'david', 'sex':'m', 'address':'北京'}\n",
    "info.clear()\n",
    "print(info)"
   ]
  },
  {
   "cell_type": "code",
   "execution_count": 64,
   "id": "ae69e01d-c048-4564-8623-5c1010a0061c",
   "metadata": {},
   "outputs": [
    {
     "name": "stdout",
     "output_type": "stream",
     "text": [
      "name\n",
      "sex\n",
      "address\n"
     ]
    }
   ],
   "source": [
    "info = {'name':'david', 'sex':'m', 'address':'北京'}\n",
    "for key in info.keys():\n",
    "    print(key)"
   ]
  },
  {
   "cell_type": "code",
   "execution_count": 68,
   "id": "2a47d37f-4619-4ab5-82a0-4d5995a4b4b5",
   "metadata": {},
   "outputs": [
    {
     "name": "stdout",
     "output_type": "stream",
     "text": [
      "david\n",
      "m\n",
      "北京\n"
     ]
    }
   ],
   "source": [
    "for value in info.values():\n",
    "    print(value)"
   ]
  },
  {
   "cell_type": "code",
   "execution_count": 74,
   "id": "37cc6d74-0772-462a-ab0f-3c943698f727",
   "metadata": {},
   "outputs": [
    {
     "name": "stdout",
     "output_type": "stream",
     "text": [
      "('name', 'david') <class 'tuple'>\n",
      "('sex', 'm') <class 'tuple'>\n",
      "('address', '北京') <class 'tuple'>\n"
     ]
    }
   ],
   "source": [
    "for item in info.items():\n",
    "    print(item, type(item))"
   ]
  },
  {
   "cell_type": "code",
   "execution_count": 76,
   "id": "dc26904e-0267-4f6a-aa2f-28446e0242a6",
   "metadata": {},
   "outputs": [
    {
     "name": "stdout",
     "output_type": "stream",
     "text": [
      "name david\n",
      "sex m\n",
      "address 北京\n"
     ]
    }
   ],
   "source": [
    "for key, value in info.items():\n",
    "    print(key, value)"
   ]
  },
  {
   "cell_type": "code",
   "execution_count": 78,
   "id": "de485c2d-8dbc-4b15-98cf-948fdce7804b",
   "metadata": {},
   "outputs": [
    {
     "name": "stdout",
     "output_type": "stream",
     "text": [
      "1 2\n"
     ]
    }
   ],
   "source": [
    "item1, item2 = (1,2)\n",
    "print(item1, item2)"
   ]
  },
  {
   "cell_type": "code",
   "execution_count": 121,
   "id": "3dcf37ae-f746-4d6b-97f9-1272b18861e7",
   "metadata": {},
   "outputs": [
    {
     "name": "stdout",
     "output_type": "stream",
     "text": [
      "{'i': 1, 'am': 1, 'happy': 1, 'to': 4, 'join': 1, 'with': 1, 'you': 1, 'today': 2, 'in': 8, 'what': 1, 'will': 1, 'go': 1, 'down': 1, 'history': 2, 'as': 3, 'the': 15, 'greatest': 1, 'demonstration': 1, 'for': 1, 'freedom': 1, 'of': 12, 'our': 1, 'nation.five': 1, 'score': 1, 'years': 5, 'ago,': 1, 'a': 6, 'great': 2, 'american,': 1, 'whose': 1, 'symbolic': 1, 'shadow': 1, 'we': 1, 'stand': 1, 'today,': 1, 'signed': 1, 'emancipation': 1, 'proclamation': 1, 'momentous': 1, 'decree': 1, 'came': 2, 'beacon': 1, 'light': 1, 'hope': 1, 'millions': 1, 'negro': 5, 'slaves': 1, 'who': 1, 'had': 1, 'been': 1, 'seared': 1, 'flames': 1, 'withering': 1, 'injustice': 1, 'it': 1, 'joyous': 1, 'daybreak': 1, 'end': 1, 'long': 1, 'night': 1, 'bad': 1, 'captivity.but': 1, 'one': 4, 'hundred': 4, 'later,': 4, 'still': 3, 'is': 3, 'not': 1, 'free': 1, 'life': 1, 'sadly': 1, 'crippled': 1, 'by': 1, 'manacles': 1, 'segregation': 1, 'and': 3, 'chains': 1, 'discrimination': 1, 'lives': 1, 'on': 1, 'lonely': 1, 'island': 1, 'poverty': 1, 'midst': 1, 'vast': 1, 'ocean': 1, 'material': 1, 'prosperity': 1, 'languished': 1, 'corners': 1, 'american': 1, 'society': 1, 'finds': 1, 'himself': 1, 'an': 1, 'exile': 1, 'his': 1, 'own': 1, 'land': 1, 'so': 1, \"we've\": 1, 'come': 1, 'here': 1, 'dramatize': 1, 'shameful': 1, 'condition': 1}\n",
      "-------------------------------------------------------------------------------------------------------------------------------\n",
      "[('the', 15), ('of', 12), ('in', 8), ('a', 6), ('years', 5), ('negro', 5), ('to', 4), ('one', 4), ('hundred', 4), ('later,', 4), ('as', 3), ('still', 3), ('is', 3), ('and', 3), ('today', 2), ('history', 2), ('great', 2), ('came', 2), ('i', 1), ('am', 1), ('happy', 1), ('join', 1), ('with', 1), ('you', 1), ('what', 1), ('will', 1), ('go', 1), ('down', 1), ('greatest', 1), ('demonstration', 1), ('for', 1), ('freedom', 1), ('our', 1), ('nation.five', 1), ('score', 1), ('ago,', 1), ('american,', 1), ('whose', 1), ('symbolic', 1), ('shadow', 1), ('we', 1), ('stand', 1), ('today,', 1), ('signed', 1), ('emancipation', 1), ('proclamation', 1), ('momentous', 1), ('decree', 1), ('beacon', 1), ('light', 1), ('hope', 1), ('millions', 1), ('slaves', 1), ('who', 1), ('had', 1), ('been', 1), ('seared', 1), ('flames', 1), ('withering', 1), ('injustice', 1), ('it', 1), ('joyous', 1), ('daybreak', 1), ('end', 1), ('long', 1), ('night', 1), ('bad', 1), ('captivity.but', 1), ('not', 1), ('free', 1), ('life', 1), ('sadly', 1), ('crippled', 1), ('by', 1), ('manacles', 1), ('segregation', 1), ('chains', 1), ('discrimination', 1), ('lives', 1), ('on', 1), ('lonely', 1), ('island', 1), ('poverty', 1), ('midst', 1), ('vast', 1), ('ocean', 1), ('material', 1), ('prosperity', 1), ('languished', 1), ('corners', 1), ('american', 1), ('society', 1), ('finds', 1), ('himself', 1), ('an', 1), ('exile', 1), ('his', 1), ('own', 1), ('land', 1), ('so', 1), (\"we've\", 1), ('come', 1), ('here', 1), ('dramatize', 1), ('shameful', 1), ('condition', 1)]\n"
     ]
    }
   ],
   "source": [
    "s = \"I am happy to join with you today in what will go down in history as the greatest demonstration for freedom in the history of our nation.\"\\\n",
    "\"Five score years ago, a great American, in whose symbolic shadow we stand today, signed the Emancipation Proclamation. The momentous decree came as a great beacon light of hope to millions of Negro slaves who had been seared in the flames of withering injustice. It came as a joyous daybreak to end the long night of bad captivity.\"\\\n",
    "\"But one hundred years later, the Negro still is not free. One hundred years later, the life of the Negro is still sadly crippled by the manacles of segregation and the chains of discrimination. One hundred years later, the Negro lives on a lonely island of poverty in the midst of a vast ocean of material prosperity. One hundred years later, the Negro is still languished in the corners of American society and finds himself an exile in his own land. And so we've come here today to dramatize a shameful condition.\" \n",
    "# {am: 5 join:3 you:2}\n",
    "stat_word = {}\n",
    "str_lst = s.split()\n",
    "# print(str_lst)\n",
    "for word in str_lst:\n",
    "    word = word.lower()\n",
    "    word = word.strip('.')\n",
    "    stat_word[word] = stat_word.get(word, 0) + 1\n",
    "    # if word in stat_word:\n",
    "    #     stat_word[word] = stat_word[word] + 1\n",
    "    # else:\n",
    "    #   stat_word[word] = 1  \n",
    "\n",
    "def get_key(item):\n",
    "    return item[1]\n",
    "    \n",
    "print(stat_word)\n",
    "# lambda item:item[1]\n",
    "sorted_stat = sorted(stat_word.items(), key=lambda item:item[1], reverse=True)\n",
    "print('-------------------------------------------------------------------------------------------------------------------------------')\n",
    "print(sorted_stat)"
   ]
  },
  {
   "cell_type": "code",
   "execution_count": 112,
   "id": "2a89e574-0515-4234-8e56-d35bb71c0e24",
   "metadata": {},
   "outputs": [
    {
     "name": "stdout",
     "output_type": "stream",
     "text": [
      "0\n",
      "dict_items([('name', 'david'), ('sex', 'm'), ('address', '北京')])\n"
     ]
    }
   ],
   "source": [
    "info = {'name':'david', 'sex':'m', 'address':'北京'}\n",
    "print(info.get('age', 0))\n",
    "print(info.items())"
   ]
  },
  {
   "cell_type": "code",
   "execution_count": 2,
   "id": "e25c88c0-5a7f-4451-9584-941e76392bb5",
   "metadata": {},
   "outputs": [
    {
     "data": {
      "text/plain": [
       "[1, 2, 3, 4]"
      ]
     },
     "execution_count": 2,
     "metadata": {},
     "output_type": "execute_result"
    }
   ],
   "source": [
    "[1,2,3,4]"
   ]
  },
  {
   "cell_type": "code",
   "execution_count": 4,
   "id": "6fe8a63f-ba75-4f35-8de3-43e373290ae4",
   "metadata": {},
   "outputs": [],
   "source": [
    "def printInfo():\n",
    "    print('------------------------------------')\n",
    "    print('         生命苦短，我用Python         ')\n",
    "    print('------------------------------------')"
   ]
  },
  {
   "cell_type": "code",
   "execution_count": 19,
   "id": "47350bfb-7e2e-476f-b7cc-bf364ae61326",
   "metadata": {},
   "outputs": [
    {
     "name": "stdout",
     "output_type": "stream",
     "text": [
      "------------------------------------\n",
      "         生命苦短，我用Python         \n",
      "------------------------------------\n"
     ]
    }
   ],
   "source": [
    "printInfo()"
   ]
  },
  {
   "cell_type": "code",
   "execution_count": 25,
   "id": "be6f4baf-4589-4b98-9d86-7b3158c38f9d",
   "metadata": {},
   "outputs": [
    {
     "name": "stdout",
     "output_type": "stream",
     "text": [
      "Name: alice\n",
      "Age: 20\n"
     ]
    }
   ],
   "source": [
    "def printinfo(name, age = 35):\n",
    "    print(\"Name:\", name)\n",
    "    print(\"Age:\", age)\n",
    "\n",
    "printinfo(\"alice\", 20)"
   ]
  },
  {
   "cell_type": "code",
   "execution_count": 29,
   "id": "ac39346d-9fd5-42a1-9200-9ced2d01ea9d",
   "metadata": {},
   "outputs": [],
   "source": [
    "def printinfo(name, age = 35):\n",
    "    print(\"Name:\", name)\n",
    "    print(\"Age:\", age)"
   ]
  },
  {
   "cell_type": "code",
   "execution_count": 37,
   "id": "a68d506e-666d-49e2-8e20-de3741187270",
   "metadata": {},
   "outputs": [
    {
     "name": "stdout",
     "output_type": "stream",
     "text": [
      "Name: alice\n",
      "Age: 20\n"
     ]
    }
   ],
   "source": [
    "def printinfo(age = 35, name=\"david\"):\n",
    "    print(\"Name:\", name)\n",
    "    print(\"Age:\", age)\n",
    "    \n",
    "printinfo(20, \"alice\")"
   ]
  },
  {
   "cell_type": "code",
   "execution_count": 39,
   "id": "83a87a07-e789-4283-86e2-d138bfcff598",
   "metadata": {},
   "outputs": [
    {
     "name": "stdout",
     "output_type": "stream",
     "text": [
      "Name: alice\n",
      "Age: 20\n"
     ]
    }
   ],
   "source": [
    "def printinfo(age = 35, name=\"david\"):\n",
    "    print(\"Name:\", name)\n",
    "    print(\"Age:\", age)\n",
    "    \n",
    "printinfo(name='alice', age=20)"
   ]
  },
  {
   "cell_type": "code",
   "execution_count": 45,
   "id": "3a2303e2-4243-45f1-b50f-c2faa7f921de",
   "metadata": {},
   "outputs": [
    {
     "ename": "TypeError",
     "evalue": "printinfo() missing 1 required positional argument: 'age'",
     "output_type": "error",
     "traceback": [
      "\u001b[0;31m---------------------------------------------------------------------------\u001b[0m",
      "\u001b[0;31mTypeError\u001b[0m                                 Traceback (most recent call last)",
      "Cell \u001b[0;32mIn[45], line 5\u001b[0m\n\u001b[1;32m      2\u001b[0m     \u001b[38;5;28mprint\u001b[39m(\u001b[38;5;124m\"\u001b[39m\u001b[38;5;124mName:\u001b[39m\u001b[38;5;124m\"\u001b[39m, name)\n\u001b[1;32m      3\u001b[0m     \u001b[38;5;28mprint\u001b[39m(\u001b[38;5;124m\"\u001b[39m\u001b[38;5;124mAge:\u001b[39m\u001b[38;5;124m\"\u001b[39m, age)\n\u001b[0;32m----> 5\u001b[0m printinfo(\u001b[38;5;124m'\u001b[39m\u001b[38;5;124malice\u001b[39m\u001b[38;5;124m'\u001b[39m)\n",
      "\u001b[0;31mTypeError\u001b[0m: printinfo() missing 1 required positional argument: 'age'"
     ]
    }
   ],
   "source": [
    "def printinfo(name, age):\n",
    "    print(\"Name:\", name)\n",
    "    print(\"Age:\", age)\n",
    "\n",
    "printinfo('alice')"
   ]
  },
  {
   "cell_type": "code",
   "execution_count": 49,
   "id": "52c3851f-c8f4-479b-bdd5-40e20e5cdb9a",
   "metadata": {},
   "outputs": [
    {
     "name": "stdout",
     "output_type": "stream",
     "text": [
      "3\n"
     ]
    },
    {
     "ename": "TypeError",
     "evalue": "calculate_sum() takes 2 positional arguments but 3 were given",
     "output_type": "error",
     "traceback": [
      "\u001b[0;31m---------------------------------------------------------------------------\u001b[0m",
      "\u001b[0;31mTypeError\u001b[0m                                 Traceback (most recent call last)",
      "Cell \u001b[0;32mIn[49], line 5\u001b[0m\n\u001b[1;32m      2\u001b[0m     \u001b[38;5;28mprint\u001b[39m(a\u001b[38;5;241m+\u001b[39mb)\n\u001b[1;32m      4\u001b[0m calculate_sum(\u001b[38;5;241m1\u001b[39m,\u001b[38;5;241m2\u001b[39m)\n\u001b[0;32m----> 5\u001b[0m calculate_sum(\u001b[38;5;241m1\u001b[39m,\u001b[38;5;241m2\u001b[39m,\u001b[38;5;241m3\u001b[39m)\n",
      "\u001b[0;31mTypeError\u001b[0m: calculate_sum() takes 2 positional arguments but 3 were given"
     ]
    }
   ],
   "source": [
    "def calculate_sum(a,b):\n",
    "    print(a+b)\n",
    "\n",
    "calculate_sum(1,2)\n",
    "calculate_sum(1,2,3)"
   ]
  },
  {
   "cell_type": "code",
   "execution_count": 53,
   "id": "c5ffa001-d86f-44a6-9892-c284c3a12171",
   "metadata": {},
   "outputs": [
    {
     "name": "stdout",
     "output_type": "stream",
     "text": [
      "(1,) <class 'tuple'>\n",
      "1\n",
      "(1, 2) <class 'tuple'>\n",
      "3\n",
      "(1, 2, 3) <class 'tuple'>\n",
      "6\n",
      "(1, 2, 3, 4) <class 'tuple'>\n",
      "10\n"
     ]
    }
   ],
   "source": [
    "def calculate_sum(*nums):\n",
    "    print(nums, type(nums))\n",
    "    total_sum = 0\n",
    "    for num in nums:\n",
    "        total_sum += num\n",
    "    print(total_sum)\n",
    "\n",
    "calculate_sum(1)\n",
    "calculate_sum(1,2)\n",
    "calculate_sum(1,2,3)\n",
    "calculate_sum(1,2,3,4)"
   ]
  },
  {
   "cell_type": "code",
   "execution_count": 55,
   "id": "71b5fd67-437f-4a9b-942f-c0ad12fbde4d",
   "metadata": {},
   "outputs": [
    {
     "name": "stdout",
     "output_type": "stream",
     "text": [
      "{'name': 'alice', 'age': 20, 'location': 'beijing', 'score': 90} <class 'dict'>\n"
     ]
    }
   ],
   "source": [
    "def print_student_info(**student):\n",
    "    print(student, type(student))\n",
    "\n",
    "print_student_info(name='alice', age=20, location='beijing', score=90)"
   ]
  },
  {
   "cell_type": "code",
   "execution_count": 59,
   "id": "cc9b6f26-7636-460a-b3f2-ae1c0749d5d1",
   "metadata": {},
   "outputs": [
    {
     "name": "stdout",
     "output_type": "stream",
     "text": [
      "11\n",
      "22\n",
      "()\n"
     ]
    }
   ],
   "source": [
    "def test(a,b,*args):\n",
    "    print(a)\n",
    "    print(b)\n",
    "    print(args) \n",
    "    \n",
    "test(11,22,33,44,55,66,77,88,99)"
   ]
  },
  {
   "cell_type": "code",
   "execution_count": 61,
   "id": "7cb144d3-d358-4823-8c94-b0af37bb937d",
   "metadata": {},
   "outputs": [
    {
     "name": "stdout",
     "output_type": "stream",
     "text": [
      "Help on built-in function print in module builtins:\n",
      "\n",
      "print(*args, sep=' ', end='\\n', file=None, flush=False)\n",
      "    Prints the values to a stream, or to sys.stdout by default.\n",
      "\n",
      "    sep\n",
      "      string inserted between values, default a space.\n",
      "    end\n",
      "      string appended after the last value, default a newline.\n",
      "    file\n",
      "      a file-like object (stream); defaults to the current sys.stdout.\n",
      "    flush\n",
      "      whether to forcibly flush the stream.\n",
      "\n"
     ]
    }
   ],
   "source": [
    "help(print)"
   ]
  },
  {
   "cell_type": "code",
   "execution_count": 71,
   "id": "63f68016-c3a2-4dff-9f27-427ece827601",
   "metadata": {},
   "outputs": [
    {
     "name": "stdout",
     "output_type": "stream",
     "text": [
      "\n"
     ]
    }
   ],
   "source": [
    "print()"
   ]
  },
  {
   "cell_type": "code",
   "execution_count": 75,
   "id": "10a95c08-d599-4c85-bb3c-5d1a7dd129c5",
   "metadata": {},
   "outputs": [
    {
     "name": "stdin",
     "output_type": "stream",
     "text": [
      "Please enter your password:  sfsdfsfaS\n"
     ]
    },
    {
     "name": "stdout",
     "output_type": "stream",
     "text": [
      "NO\n"
     ]
    }
   ],
   "source": [
    "def check_password(password):\n",
    "    if 8 <= len(password) <= 16:\n",
    "        upper_flag = False\n",
    "        digit_flag = False\n",
    "        for i in password:\n",
    "            if i.isupper():\n",
    "                upper_flag = True\n",
    "            elif i.isdigit():\n",
    "                digit_flag = True\n",
    "            elif i.isspace():\n",
    "                # space_flag = False\n",
    "                return \"NO\"\n",
    "                \n",
    "        if upper_flag == True and digit_flag == True:\n",
    "            return \"YES\"\n",
    "\n",
    "    return \"NO\"\n",
    "        \n",
    "password = input(\"Please enter your password:\")\n",
    "print(check_password(password))"
   ]
  },
  {
   "cell_type": "code",
   "execution_count": 89,
   "id": "dd65c941-b3c3-4b60-9159-3dc5a1284974",
   "metadata": {},
   "outputs": [
    {
     "name": "stdout",
     "output_type": "stream",
     "text": [
      "10\n"
     ]
    },
    {
     "ename": "NameError",
     "evalue": "name 'b' is not defined",
     "output_type": "error",
     "traceback": [
      "\u001b[0;31m---------------------------------------------------------------------------\u001b[0m",
      "\u001b[0;31mNameError\u001b[0m                                 Traceback (most recent call last)",
      "Cell \u001b[0;32mIn[89], line 10\u001b[0m\n\u001b[1;32m      7\u001b[0m     testB()\n\u001b[1;32m      8\u001b[0m     \u001b[38;5;28mprint\u001b[39m(a, b)\n\u001b[0;32m---> 10\u001b[0m testA()\n",
      "Cell \u001b[0;32mIn[89], line 8\u001b[0m, in \u001b[0;36mtestA\u001b[0;34m()\u001b[0m\n\u001b[1;32m      6\u001b[0m a \u001b[38;5;241m=\u001b[39m \u001b[38;5;241m20\u001b[39m\n\u001b[1;32m      7\u001b[0m testB()\n\u001b[0;32m----> 8\u001b[0m \u001b[38;5;28mprint\u001b[39m(a, b)\n",
      "\u001b[0;31mNameError\u001b[0m: name 'b' is not defined"
     ]
    }
   ],
   "source": [
    "def testB():\n",
    "    b = 10\n",
    "    print(b)\n",
    "\n",
    "def testA():\n",
    "    a = 20\n",
    "    testB()\n",
    "    print(a, b)\n",
    "\n",
    "testA()"
   ]
  },
  {
   "cell_type": "code",
   "execution_count": 99,
   "id": "2259a964-17ee-45f1-9b98-377d9d80da69",
   "metadata": {},
   "outputs": [
    {
     "name": "stdout",
     "output_type": "stream",
     "text": [
      "20 10\n"
     ]
    }
   ],
   "source": [
    "# 全局作用域，全局可以访问\n",
    "a = 30\n",
    "def testB():\n",
    "    # 本地优先\n",
    "    a = 20\n",
    "    # 作用函数只在函数内部（局部）\n",
    "    b = 10\n",
    "    print(a,b)\n",
    "\n",
    "testB()\n",
    "# print(b)"
   ]
  },
  {
   "cell_type": "code",
   "execution_count": 105,
   "id": "3db7513b-8421-4717-8af0-12ee69bb746d",
   "metadata": {},
   "outputs": [
    {
     "name": "stdout",
     "output_type": "stream",
     "text": [
      "50 10\n",
      "50\n"
     ]
    }
   ],
   "source": [
    "# 全局作用域，全局可以访问\n",
    "a = 30\n",
    "def testB():\n",
    "    # 声明全局变量，全局的\n",
    "    global a\n",
    "    a += 20\n",
    "    # 作用函数只在函数内部（局部）\n",
    "    b = 10\n",
    "    print(a,b)\n",
    "\n",
    "testB()\n",
    "print(a)"
   ]
  },
  {
   "cell_type": "code",
   "execution_count": 111,
   "id": "a56df490-6a5d-4a23-af09-614f840525f2",
   "metadata": {},
   "outputs": [
    {
     "data": {
      "text/plain": [
       "720"
      ]
     },
     "execution_count": 111,
     "metadata": {},
     "output_type": "execute_result"
    }
   ],
   "source": [
    "\"\"\"\n",
    "5! = 1 * 2 * 3 * 4 * 5 = 4! * 5 = 3! * 4 * 5 = 2! * 3 * 4 * 5 = 1! * 2 * 3 * 4 * 5 = 1 * 2 * 3 * 4 * 5\n",
    "4! = 1 * 2 * 3 * 4 = 3! * 4 = 2! * 3 * 4 = 1! * 2 * 3 * 4\n",
    "3! = 1 * 2 * 3 = 2! * 3 = 1! * 2 * 3\n",
    "2! = 1 * 2 = 1! * 2 \n",
    "1! = 1\n",
    "\"\"\"\n",
    "def factorial(num):\n",
    "    if num == 1:\n",
    "        return 1\n",
    "    return num * factorial(num-1)\n",
    "\n",
    "factorial(6)"
   ]
  },
  {
   "cell_type": "code",
   "execution_count": null,
   "id": "89221a9e-0c20-4e29-a20e-d320ee77d687",
   "metadata": {},
   "outputs": [],
   "source": []
  }
 ],
 "metadata": {
  "kernelspec": {
   "display_name": "Python [conda env:base] *",
   "language": "python",
   "name": "conda-base-py"
  },
  "language_info": {
   "codemirror_mode": {
    "name": "ipython",
    "version": 3
   },
   "file_extension": ".py",
   "mimetype": "text/x-python",
   "name": "python",
   "nbconvert_exporter": "python",
   "pygments_lexer": "ipython3",
   "version": "3.12.7"
  }
 },
 "nbformat": 4,
 "nbformat_minor": 5
}
