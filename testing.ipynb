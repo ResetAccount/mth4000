<pre>{
 <span style="color: rgb(186, 33, 33);">"cells"</span>: [],
 <span style="color: rgb(186, 33, 33);">"metadata"</span>: {},
 <span style="color: rgb(186, 33, 33);">"nbformat"</span>: <span style="color: rgb(0, 136, 0);">4</span>,
 <span style="color: rgb(186, 33, 33);">"nbformat_minor"</span>: <span style="color: rgb(0, 136, 0);">5</span>
}</pre>
